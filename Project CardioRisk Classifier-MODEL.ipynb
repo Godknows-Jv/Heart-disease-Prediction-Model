{
 "cells": [
  {
   "cell_type": "markdown",
   "id": "ad319337-622f-4864-a747-317d06a83f83",
   "metadata": {},
   "source": [
    "<h1 style=\"color:#004080; font-family:Arial, sans-serif; padding: 10px;  background-color:#e6f0ff; border:groove 5px blue;\">CardioRisk Classifier Project</h1>\n",
    "<div style=\"text-align: center; margin-top: 20px;\">\n",
    "  <img src=\"model_logo.png\" alt=\"Model Logo\" style=\"width: 300px; height: auto;\">\n",
    "</div>\n",
    "<h2 style=\"color:#004080; font-family:Arial, sans-serif; padding: 10px;  background-color:#e6f0ff;\">Introduction</h2>\n",
    "\n",
    "<div style=\"font-family:Arial, sans-serif; color:#333;\">\n",
    "<p>\n",
    "Cardiovascular disease remains one of the leading causes of death globally. Early prediction and classification of heart disease risk levels are essential to improving healthcare outcomes through timely intervention. This project, titled <strong>CardioRisk Classifier</strong>, presents a machine learning-based system developed to predict the presence of heart disease using clinical parameters.The goal of this system is to intelligently classify whether a patient is likely to have heart disease based on these inputs, using various supervised learning models.\n",
    "</p>\n",
    "<p>\n",
    "  The dataset used in this project is sourced from a reliable public repository \n",
    "  (<a href=\"https://archive.ics.uci.edu/ml/datasets/Heart+Disease\" target=\"_blank\">\n",
    "    UCI Machine Learning Repository\n",
    "  </a>), specifically the \n",
    "  <strong>processed.cleveland.data</strong> file. It contains multiple features relevant to cardiovascular health, \n",
    "  such as age, cholesterol levels, chest pain type, resting blood pressure, and more. \n",
    "  The attributes used are summarized in the table below:\n",
    "</p>\n",
    "</div>\n",
    "<hr>\n",
    "<table style=\"width:100%; border-collapse:collapse; font-family:Arial, sans-serif; color:#333; margin-top:20px;\">\n",
    "  <thead>\n",
    "    <tr>\n",
    "      <th style=\"padding:10px; border:1px solid #ccc; background-color:#e6f0ff;\">Symbol and Column No.</th>\n",
    "      <th style=\"padding:10px; border:1px solid #ccc; background-color:#e6f0ff;\">Attribute Name</th>\n",
    "      <th style=\"padding:10px; border:1px solid #ccc; background-color:#e6f0ff;\">Description</th>\n",
    "    </tr>\n",
    "  </thead>\n",
    "  <tbody>\n",
    "    <tr><td style=\"padding:10px; border:1px solid #ccc;\">1. (age)</td><td style=\"padding:10px; border:1px solid #ccc;\">Age</td><td style=\"padding:10px; border:1px solid #ccc;\">Ages in years</td></tr>\n",
    "    <tr><td style=\"padding:10px; border:1px solid #ccc;\">2. (sex)</td><td style=\"padding:10px; border:1px solid #ccc;\">Sex</td><td style=\"padding:10px; border:1px solid #ccc;\">1 = male; 0 = female</td></tr>\n",
    "    <tr><td style=\"padding:10px; border:1px solid #ccc;\">3. (cp)</td><td style=\"padding:10px; border:1px solid #ccc;\">Chest pain type</td><td style=\"padding:10px; border:1px solid #ccc;\">Value 1: typical angina<br>Value 2: atypical angina<br>Value 3: non-anginal pain<br>Value 4: asymptomatic</td></tr>\n",
    "    <tr><td style=\"padding:10px; border:1px solid #ccc;\">4. (trestbps)</td><td style=\"padding:10px; border:1px solid #ccc;\">Resting blood pressure</td><td style=\"padding:10px; border:1px solid #ccc;\">in mm Hg on admission to the hospital</td></tr>\n",
    "    <tr><td style=\"padding:10px; border:1px solid #ccc;\">5. (chol)</td><td style=\"padding:10px; border:1px solid #ccc;\">Serum Cholesterol</td><td style=\"padding:10px; border:1px solid #ccc;\">In mg/dl</td></tr>\n",
    "    <tr><td style=\"padding:10px; border:1px solid #ccc;\">6. (fbs)</td><td style=\"padding:10px; border:1px solid #ccc;\">Fasting Blood Sugar > 120 Mg/Dl</td><td style=\"padding:10px; border:1px solid #ccc;\">(1 = true; 0 = false)</td></tr>\n",
    "    <tr><td style=\"padding:10px; border:1px solid #ccc;\">7. (restecg)</td><td style=\"padding:10px; border:1px solid #ccc;\">Resting Electrocardiographic Results</td><td style=\"padding:10px; border:1px solid #ccc;\">Value 0: normal<br>Value 1: ST-T wave abnormality<br>Value 2: left ventricular hypertrophy by Estes' criteria</td></tr>\n",
    "    <tr><td style=\"padding:10px; border:1px solid #ccc;\">8. (thalach)</td><td style=\"padding:10px; border:1px solid #ccc;\">Maximum Heart Rate Achieved</td><td style=\"padding:10px; border:1px solid #ccc;\">Measured values</td></tr>\n",
    "    <tr><td style=\"padding:10px; border:1px solid #ccc;\">9. (exang)</td><td style=\"padding:10px; border:1px solid #ccc;\">Exercise Induced Angina</td><td style=\"padding:10px; border:1px solid #ccc;\">1 = yes; 0 = no</td></tr>\n",
    "    <tr><td style=\"padding:10px; border:1px solid #ccc;\">10. (oldpeak)</td><td style=\"padding:10px; border:1px solid #ccc;\">ST depression induced by exercise relative to rest</td><td style=\"padding:10px; border:1px solid #ccc;\">Measured values</td></tr>\n",
    "    <tr><td style=\"padding:10px; border:1px solid #ccc;\">11. (slope)</td><td style=\"padding:10px; border:1px solid #ccc;\">Slope of the peak exercise ST segment</td><td style=\"padding:10px; border:1px solid #ccc;\">Value 1: upsloping<br>Value 2: flat<br>Value 3: downsloping</td></tr>\n",
    "    <tr><td style=\"padding:10px; border:1px solid #ccc;\">12. (ca)</td><td style=\"padding:10px; border:1px solid #ccc;\">Number of major vessels colored by fluoroscopy</td><td style=\"padding:10px; border:1px solid #ccc;\">Count values (0–3)</td></tr>\n",
    "    <tr><td style=\"padding:10px; border:1px solid #ccc;\">13. (thal)</td><td style=\"padding:10px; border:1px solid #ccc;\">Thalassemia</td><td style=\"padding:10px; border:1px solid #ccc;\">3 = normal<br>6 = fixed defect<br>7 = reversible defect</td></tr>\n",
    "    <tr><td style=\"padding:10px; border:1px solid #ccc;\">14. (num)</td><td style=\"padding:10px; border:1px solid #ccc;\">Target</td><td style=\"padding:10px; border:1px solid #ccc;\">0 = No disease<br>1–4 = Disease</td></tr>\n",
    "  </tbody>\n",
    "</table>\n"
   ]
  },
  {
   "cell_type": "markdown",
   "id": "6fbc748b-6096-40c7-a6a3-06e142bbd672",
   "metadata": {},
   "source": [
    "<h1 style=\"color:#004080; font-family:Arial, sans-serif; padding: 10px;  background-color:#e6f0ff;\">Importing all libraries</h1>"
   ]
  },
  {
   "cell_type": "code",
   "execution_count": 142,
   "id": "b6764a3a-7140-44f7-8b80-e0f352888121",
   "metadata": {},
   "outputs": [],
   "source": [
    "%matplotlib inline\n",
    "import numpy as np\n",
    "import pandas as pd\n",
    "import seaborn as sns\n",
    "import matplotlib.pyplot as plt\n",
    "import sklearn.linear_model\n",
    "import statsmodels.formula.api as smf\n",
    "from sklearn import svm\n",
    "from sklearn import preprocessing\n",
    "from sklearn.model_selection import train_test_split,cross_val_score\n",
    "from sklearn.metrics import confusion_matrix, classification_report,accuracy_score\n",
    "from sklearn.ensemble import RandomForestClassifier\n",
    "from sklearn.discriminant_analysis import LinearDiscriminantAnalysis\n",
    "from sklearn.preprocessing import StandardScaler\n",
    "from statsmodels.stats.outliers_influence import variance_inflation_factor\n",
    "from sklearn.linear_model import LogisticRegression\n",
    "from sklearn.model_selection import GridSearchCV\n",
    "import warnings\n",
    "warnings.filterwarnings('ignore')"
   ]
  },
  {
   "cell_type": "markdown",
   "id": "ed6c59aa-f95e-4ba7-8726-2ee5bd8aee1b",
   "metadata": {},
   "source": [
    "<h1 style=\"color:#004080; font-family:Arial, sans-serif; padding: 10px;  background-color:#e6f0ff;\">Loading heart data from UCI repository</h1>"
   ]
  },
  {
   "cell_type": "code",
   "execution_count": 143,
   "id": "39e5745b-e6b0-487f-a3dc-b6d27f932607",
   "metadata": {},
   "outputs": [],
   "source": [
    "raw_data = pd.read_csv('C://Users//kktc//Desktop//SPECIAL FILES//Projects//Heart disease Prediction Project//dataset//heart+disease//processed.cleveland.data',header = None)\n",
    "raw_data.columns = ['age', 'sex', 'cp', 'trestbps', 'chol', 'fbs', 'restecg', 'thalach','exang', 'oldpeak', 'slope', 'ca', 'thal', 'target']"
   ]
  },
  {
   "cell_type": "markdown",
   "id": "c6fede95-4e4f-498c-9795-0328ddee22d6",
   "metadata": {},
   "source": [
    "<p style=\"color:#004080; font-family:Arial, sans-serif; padding: 10px;  background-color:#e6f0ff;\">Sorting data by age</p>"
   ]
  },
  {
   "cell_type": "code",
   "execution_count": 144,
   "id": "85026c4b-8f98-445d-9fe2-bcc4b508376e",
   "metadata": {},
   "outputs": [],
   "source": [
    "raw_data = raw_data.sort_values('age')\n",
    "raw_data = raw_data.reset_index(drop=True)"
   ]
  },
  {
   "cell_type": "markdown",
   "id": "70c13532-62b7-4429-8d33-8b3313a61421",
   "metadata": {},
   "source": [
    "<h1 style=\"color:#004080; font-family:Arial, sans-serif; padding: 10px;  background-color:#e6f0ff;\">Doing same data analysis</h1>"
   ]
  },
  {
   "cell_type": "markdown",
   "id": "ea11d18d-a0f1-4068-b9eb-e6d9e074d8c0",
   "metadata": {},
   "source": [
    "<p style=\"color:#004080; font-family:Arial, sans-serif; padding: 10px;  background-color:#e6f0ff;\">Displaying data size</p>"
   ]
  },
  {
   "cell_type": "code",
   "execution_count": 145,
   "id": "fd79f027-5909-42c5-b484-1e7f5de93a98",
   "metadata": {},
   "outputs": [
    {
     "data": {
      "text/plain": [
       "(303, 14)"
      ]
     },
     "execution_count": 145,
     "metadata": {},
     "output_type": "execute_result"
    }
   ],
   "source": [
    "raw_data.shape"
   ]
  },
  {
   "cell_type": "markdown",
   "id": "65b43aec-88c1-4b76-9a53-652b3b6e48b0",
   "metadata": {},
   "source": [
    "<p style=\"color:#004080; font-family:Arial, sans-serif; padding: 10px;  background-color:#e6f0ff;\">Displaying 1st 5 rows of the dataset</p>"
   ]
  },
  {
   "cell_type": "code",
   "execution_count": 146,
   "id": "730c3a68-a669-4d89-8f58-09f57e249196",
   "metadata": {},
   "outputs": [
    {
     "data": {
      "text/html": [
       "<div>\n",
       "<style scoped>\n",
       "    .dataframe tbody tr th:only-of-type {\n",
       "        vertical-align: middle;\n",
       "    }\n",
       "\n",
       "    .dataframe tbody tr th {\n",
       "        vertical-align: top;\n",
       "    }\n",
       "\n",
       "    .dataframe thead th {\n",
       "        text-align: right;\n",
       "    }\n",
       "</style>\n",
       "<table border=\"1\" class=\"dataframe\">\n",
       "  <thead>\n",
       "    <tr style=\"text-align: right;\">\n",
       "      <th></th>\n",
       "      <th>age</th>\n",
       "      <th>sex</th>\n",
       "      <th>cp</th>\n",
       "      <th>trestbps</th>\n",
       "      <th>chol</th>\n",
       "      <th>fbs</th>\n",
       "      <th>restecg</th>\n",
       "      <th>thalach</th>\n",
       "      <th>exang</th>\n",
       "      <th>oldpeak</th>\n",
       "      <th>slope</th>\n",
       "      <th>ca</th>\n",
       "      <th>thal</th>\n",
       "      <th>target</th>\n",
       "    </tr>\n",
       "  </thead>\n",
       "  <tbody>\n",
       "    <tr>\n",
       "      <th>0</th>\n",
       "      <td>29.0</td>\n",
       "      <td>1.0</td>\n",
       "      <td>2.0</td>\n",
       "      <td>130.0</td>\n",
       "      <td>204.0</td>\n",
       "      <td>0.0</td>\n",
       "      <td>2.0</td>\n",
       "      <td>202.0</td>\n",
       "      <td>0.0</td>\n",
       "      <td>0.0</td>\n",
       "      <td>1.0</td>\n",
       "      <td>0.0</td>\n",
       "      <td>3.0</td>\n",
       "      <td>0</td>\n",
       "    </tr>\n",
       "    <tr>\n",
       "      <th>1</th>\n",
       "      <td>34.0</td>\n",
       "      <td>1.0</td>\n",
       "      <td>1.0</td>\n",
       "      <td>118.0</td>\n",
       "      <td>182.0</td>\n",
       "      <td>0.0</td>\n",
       "      <td>2.0</td>\n",
       "      <td>174.0</td>\n",
       "      <td>0.0</td>\n",
       "      <td>0.0</td>\n",
       "      <td>1.0</td>\n",
       "      <td>0.0</td>\n",
       "      <td>3.0</td>\n",
       "      <td>0</td>\n",
       "    </tr>\n",
       "    <tr>\n",
       "      <th>2</th>\n",
       "      <td>34.0</td>\n",
       "      <td>0.0</td>\n",
       "      <td>2.0</td>\n",
       "      <td>118.0</td>\n",
       "      <td>210.0</td>\n",
       "      <td>0.0</td>\n",
       "      <td>0.0</td>\n",
       "      <td>192.0</td>\n",
       "      <td>0.0</td>\n",
       "      <td>0.7</td>\n",
       "      <td>1.0</td>\n",
       "      <td>0.0</td>\n",
       "      <td>3.0</td>\n",
       "      <td>0</td>\n",
       "    </tr>\n",
       "    <tr>\n",
       "      <th>3</th>\n",
       "      <td>35.0</td>\n",
       "      <td>1.0</td>\n",
       "      <td>2.0</td>\n",
       "      <td>122.0</td>\n",
       "      <td>192.0</td>\n",
       "      <td>0.0</td>\n",
       "      <td>0.0</td>\n",
       "      <td>174.0</td>\n",
       "      <td>0.0</td>\n",
       "      <td>0.0</td>\n",
       "      <td>1.0</td>\n",
       "      <td>0.0</td>\n",
       "      <td>3.0</td>\n",
       "      <td>0</td>\n",
       "    </tr>\n",
       "    <tr>\n",
       "      <th>4</th>\n",
       "      <td>35.0</td>\n",
       "      <td>0.0</td>\n",
       "      <td>4.0</td>\n",
       "      <td>138.0</td>\n",
       "      <td>183.0</td>\n",
       "      <td>0.0</td>\n",
       "      <td>0.0</td>\n",
       "      <td>182.0</td>\n",
       "      <td>0.0</td>\n",
       "      <td>1.4</td>\n",
       "      <td>1.0</td>\n",
       "      <td>0.0</td>\n",
       "      <td>3.0</td>\n",
       "      <td>0</td>\n",
       "    </tr>\n",
       "  </tbody>\n",
       "</table>\n",
       "</div>"
      ],
      "text/plain": [
       "    age  sex   cp  trestbps   chol  fbs  restecg  thalach  exang  oldpeak  \\\n",
       "0  29.0  1.0  2.0     130.0  204.0  0.0      2.0    202.0    0.0      0.0   \n",
       "1  34.0  1.0  1.0     118.0  182.0  0.0      2.0    174.0    0.0      0.0   \n",
       "2  34.0  0.0  2.0     118.0  210.0  0.0      0.0    192.0    0.0      0.7   \n",
       "3  35.0  1.0  2.0     122.0  192.0  0.0      0.0    174.0    0.0      0.0   \n",
       "4  35.0  0.0  4.0     138.0  183.0  0.0      0.0    182.0    0.0      1.4   \n",
       "\n",
       "   slope   ca thal  target  \n",
       "0    1.0  0.0  3.0       0  \n",
       "1    1.0  0.0  3.0       0  \n",
       "2    1.0  0.0  3.0       0  \n",
       "3    1.0  0.0  3.0       0  \n",
       "4    1.0  0.0  3.0       0  "
      ]
     },
     "execution_count": 146,
     "metadata": {},
     "output_type": "execute_result"
    }
   ],
   "source": [
    "raw_data.head()"
   ]
  },
  {
   "cell_type": "markdown",
   "id": "eb1966a4-41d5-44a0-9b3f-b6778835c22e",
   "metadata": {},
   "source": [
    "<p style=\"color:#004080; font-family:Arial, sans-serif; padding: 10px;  background-color:#e6f0ff;\">Displaying last 5 rows</p>"
   ]
  },
  {
   "cell_type": "code",
   "execution_count": 147,
   "id": "0821594f-99d0-4ae1-bcd1-1964659be9fe",
   "metadata": {},
   "outputs": [
    {
     "data": {
      "text/html": [
       "<div>\n",
       "<style scoped>\n",
       "    .dataframe tbody tr th:only-of-type {\n",
       "        vertical-align: middle;\n",
       "    }\n",
       "\n",
       "    .dataframe tbody tr th {\n",
       "        vertical-align: top;\n",
       "    }\n",
       "\n",
       "    .dataframe thead th {\n",
       "        text-align: right;\n",
       "    }\n",
       "</style>\n",
       "<table border=\"1\" class=\"dataframe\">\n",
       "  <thead>\n",
       "    <tr style=\"text-align: right;\">\n",
       "      <th></th>\n",
       "      <th>age</th>\n",
       "      <th>sex</th>\n",
       "      <th>cp</th>\n",
       "      <th>trestbps</th>\n",
       "      <th>chol</th>\n",
       "      <th>fbs</th>\n",
       "      <th>restecg</th>\n",
       "      <th>thalach</th>\n",
       "      <th>exang</th>\n",
       "      <th>oldpeak</th>\n",
       "      <th>slope</th>\n",
       "      <th>ca</th>\n",
       "      <th>thal</th>\n",
       "      <th>target</th>\n",
       "    </tr>\n",
       "  </thead>\n",
       "  <tbody>\n",
       "    <tr>\n",
       "      <th>298</th>\n",
       "      <td>71.0</td>\n",
       "      <td>0.0</td>\n",
       "      <td>2.0</td>\n",
       "      <td>160.0</td>\n",
       "      <td>302.0</td>\n",
       "      <td>0.0</td>\n",
       "      <td>0.0</td>\n",
       "      <td>162.0</td>\n",
       "      <td>0.0</td>\n",
       "      <td>0.4</td>\n",
       "      <td>1.0</td>\n",
       "      <td>2.0</td>\n",
       "      <td>3.0</td>\n",
       "      <td>0</td>\n",
       "    </tr>\n",
       "    <tr>\n",
       "      <th>299</th>\n",
       "      <td>71.0</td>\n",
       "      <td>0.0</td>\n",
       "      <td>3.0</td>\n",
       "      <td>110.0</td>\n",
       "      <td>265.0</td>\n",
       "      <td>1.0</td>\n",
       "      <td>2.0</td>\n",
       "      <td>130.0</td>\n",
       "      <td>0.0</td>\n",
       "      <td>0.0</td>\n",
       "      <td>1.0</td>\n",
       "      <td>1.0</td>\n",
       "      <td>3.0</td>\n",
       "      <td>0</td>\n",
       "    </tr>\n",
       "    <tr>\n",
       "      <th>300</th>\n",
       "      <td>74.0</td>\n",
       "      <td>0.0</td>\n",
       "      <td>2.0</td>\n",
       "      <td>120.0</td>\n",
       "      <td>269.0</td>\n",
       "      <td>0.0</td>\n",
       "      <td>2.0</td>\n",
       "      <td>121.0</td>\n",
       "      <td>1.0</td>\n",
       "      <td>0.2</td>\n",
       "      <td>1.0</td>\n",
       "      <td>1.0</td>\n",
       "      <td>3.0</td>\n",
       "      <td>0</td>\n",
       "    </tr>\n",
       "    <tr>\n",
       "      <th>301</th>\n",
       "      <td>76.0</td>\n",
       "      <td>0.0</td>\n",
       "      <td>3.0</td>\n",
       "      <td>140.0</td>\n",
       "      <td>197.0</td>\n",
       "      <td>0.0</td>\n",
       "      <td>1.0</td>\n",
       "      <td>116.0</td>\n",
       "      <td>0.0</td>\n",
       "      <td>1.1</td>\n",
       "      <td>2.0</td>\n",
       "      <td>0.0</td>\n",
       "      <td>3.0</td>\n",
       "      <td>0</td>\n",
       "    </tr>\n",
       "    <tr>\n",
       "      <th>302</th>\n",
       "      <td>77.0</td>\n",
       "      <td>1.0</td>\n",
       "      <td>4.0</td>\n",
       "      <td>125.0</td>\n",
       "      <td>304.0</td>\n",
       "      <td>0.0</td>\n",
       "      <td>2.0</td>\n",
       "      <td>162.0</td>\n",
       "      <td>1.0</td>\n",
       "      <td>0.0</td>\n",
       "      <td>1.0</td>\n",
       "      <td>3.0</td>\n",
       "      <td>3.0</td>\n",
       "      <td>4</td>\n",
       "    </tr>\n",
       "  </tbody>\n",
       "</table>\n",
       "</div>"
      ],
      "text/plain": [
       "      age  sex   cp  trestbps   chol  fbs  restecg  thalach  exang  oldpeak  \\\n",
       "298  71.0  0.0  2.0     160.0  302.0  0.0      0.0    162.0    0.0      0.4   \n",
       "299  71.0  0.0  3.0     110.0  265.0  1.0      2.0    130.0    0.0      0.0   \n",
       "300  74.0  0.0  2.0     120.0  269.0  0.0      2.0    121.0    1.0      0.2   \n",
       "301  76.0  0.0  3.0     140.0  197.0  0.0      1.0    116.0    0.0      1.1   \n",
       "302  77.0  1.0  4.0     125.0  304.0  0.0      2.0    162.0    1.0      0.0   \n",
       "\n",
       "     slope   ca thal  target  \n",
       "298    1.0  2.0  3.0       0  \n",
       "299    1.0  1.0  3.0       0  \n",
       "300    1.0  1.0  3.0       0  \n",
       "301    2.0  0.0  3.0       0  \n",
       "302    1.0  3.0  3.0       4  "
      ]
     },
     "execution_count": 147,
     "metadata": {},
     "output_type": "execute_result"
    }
   ],
   "source": [
    "raw_data.tail()"
   ]
  },
  {
   "cell_type": "markdown",
   "id": "097ad3fa-675e-4fca-bc3b-38f7243c95de",
   "metadata": {},
   "source": [
    "<p style=\"color:#004080; font-family:Arial, sans-serif; padding: 10px;  background-color:#e6f0ff;\">Statistical summary</p>"
   ]
  },
  {
   "cell_type": "code",
   "execution_count": 148,
   "id": "9f8df701-d73a-418b-97a9-20790c1e8a85",
   "metadata": {},
   "outputs": [
    {
     "data": {
      "text/html": [
       "<div>\n",
       "<style scoped>\n",
       "    .dataframe tbody tr th:only-of-type {\n",
       "        vertical-align: middle;\n",
       "    }\n",
       "\n",
       "    .dataframe tbody tr th {\n",
       "        vertical-align: top;\n",
       "    }\n",
       "\n",
       "    .dataframe thead th {\n",
       "        text-align: right;\n",
       "    }\n",
       "</style>\n",
       "<table border=\"1\" class=\"dataframe\">\n",
       "  <thead>\n",
       "    <tr style=\"text-align: right;\">\n",
       "      <th></th>\n",
       "      <th>age</th>\n",
       "      <th>sex</th>\n",
       "      <th>cp</th>\n",
       "      <th>trestbps</th>\n",
       "      <th>chol</th>\n",
       "      <th>fbs</th>\n",
       "      <th>restecg</th>\n",
       "      <th>thalach</th>\n",
       "      <th>exang</th>\n",
       "      <th>oldpeak</th>\n",
       "      <th>slope</th>\n",
       "      <th>target</th>\n",
       "    </tr>\n",
       "  </thead>\n",
       "  <tbody>\n",
       "    <tr>\n",
       "      <th>count</th>\n",
       "      <td>303.000000</td>\n",
       "      <td>303.000000</td>\n",
       "      <td>303.000000</td>\n",
       "      <td>303.000000</td>\n",
       "      <td>303.000000</td>\n",
       "      <td>303.000000</td>\n",
       "      <td>303.000000</td>\n",
       "      <td>303.000000</td>\n",
       "      <td>303.000000</td>\n",
       "      <td>303.000000</td>\n",
       "      <td>303.000000</td>\n",
       "      <td>303.000000</td>\n",
       "    </tr>\n",
       "    <tr>\n",
       "      <th>mean</th>\n",
       "      <td>54.438944</td>\n",
       "      <td>0.679868</td>\n",
       "      <td>3.158416</td>\n",
       "      <td>131.689769</td>\n",
       "      <td>246.693069</td>\n",
       "      <td>0.148515</td>\n",
       "      <td>0.990099</td>\n",
       "      <td>149.607261</td>\n",
       "      <td>0.326733</td>\n",
       "      <td>1.039604</td>\n",
       "      <td>1.600660</td>\n",
       "      <td>0.937294</td>\n",
       "    </tr>\n",
       "    <tr>\n",
       "      <th>std</th>\n",
       "      <td>9.038662</td>\n",
       "      <td>0.467299</td>\n",
       "      <td>0.960126</td>\n",
       "      <td>17.599748</td>\n",
       "      <td>51.776918</td>\n",
       "      <td>0.356198</td>\n",
       "      <td>0.994971</td>\n",
       "      <td>22.875003</td>\n",
       "      <td>0.469794</td>\n",
       "      <td>1.161075</td>\n",
       "      <td>0.616226</td>\n",
       "      <td>1.228536</td>\n",
       "    </tr>\n",
       "    <tr>\n",
       "      <th>min</th>\n",
       "      <td>29.000000</td>\n",
       "      <td>0.000000</td>\n",
       "      <td>1.000000</td>\n",
       "      <td>94.000000</td>\n",
       "      <td>126.000000</td>\n",
       "      <td>0.000000</td>\n",
       "      <td>0.000000</td>\n",
       "      <td>71.000000</td>\n",
       "      <td>0.000000</td>\n",
       "      <td>0.000000</td>\n",
       "      <td>1.000000</td>\n",
       "      <td>0.000000</td>\n",
       "    </tr>\n",
       "    <tr>\n",
       "      <th>25%</th>\n",
       "      <td>48.000000</td>\n",
       "      <td>0.000000</td>\n",
       "      <td>3.000000</td>\n",
       "      <td>120.000000</td>\n",
       "      <td>211.000000</td>\n",
       "      <td>0.000000</td>\n",
       "      <td>0.000000</td>\n",
       "      <td>133.500000</td>\n",
       "      <td>0.000000</td>\n",
       "      <td>0.000000</td>\n",
       "      <td>1.000000</td>\n",
       "      <td>0.000000</td>\n",
       "    </tr>\n",
       "    <tr>\n",
       "      <th>50%</th>\n",
       "      <td>56.000000</td>\n",
       "      <td>1.000000</td>\n",
       "      <td>3.000000</td>\n",
       "      <td>130.000000</td>\n",
       "      <td>241.000000</td>\n",
       "      <td>0.000000</td>\n",
       "      <td>1.000000</td>\n",
       "      <td>153.000000</td>\n",
       "      <td>0.000000</td>\n",
       "      <td>0.800000</td>\n",
       "      <td>2.000000</td>\n",
       "      <td>0.000000</td>\n",
       "    </tr>\n",
       "    <tr>\n",
       "      <th>75%</th>\n",
       "      <td>61.000000</td>\n",
       "      <td>1.000000</td>\n",
       "      <td>4.000000</td>\n",
       "      <td>140.000000</td>\n",
       "      <td>275.000000</td>\n",
       "      <td>0.000000</td>\n",
       "      <td>2.000000</td>\n",
       "      <td>166.000000</td>\n",
       "      <td>1.000000</td>\n",
       "      <td>1.600000</td>\n",
       "      <td>2.000000</td>\n",
       "      <td>2.000000</td>\n",
       "    </tr>\n",
       "    <tr>\n",
       "      <th>max</th>\n",
       "      <td>77.000000</td>\n",
       "      <td>1.000000</td>\n",
       "      <td>4.000000</td>\n",
       "      <td>200.000000</td>\n",
       "      <td>564.000000</td>\n",
       "      <td>1.000000</td>\n",
       "      <td>2.000000</td>\n",
       "      <td>202.000000</td>\n",
       "      <td>1.000000</td>\n",
       "      <td>6.200000</td>\n",
       "      <td>3.000000</td>\n",
       "      <td>4.000000</td>\n",
       "    </tr>\n",
       "  </tbody>\n",
       "</table>\n",
       "</div>"
      ],
      "text/plain": [
       "              age         sex          cp    trestbps        chol         fbs  \\\n",
       "count  303.000000  303.000000  303.000000  303.000000  303.000000  303.000000   \n",
       "mean    54.438944    0.679868    3.158416  131.689769  246.693069    0.148515   \n",
       "std      9.038662    0.467299    0.960126   17.599748   51.776918    0.356198   \n",
       "min     29.000000    0.000000    1.000000   94.000000  126.000000    0.000000   \n",
       "25%     48.000000    0.000000    3.000000  120.000000  211.000000    0.000000   \n",
       "50%     56.000000    1.000000    3.000000  130.000000  241.000000    0.000000   \n",
       "75%     61.000000    1.000000    4.000000  140.000000  275.000000    0.000000   \n",
       "max     77.000000    1.000000    4.000000  200.000000  564.000000    1.000000   \n",
       "\n",
       "          restecg     thalach       exang     oldpeak       slope      target  \n",
       "count  303.000000  303.000000  303.000000  303.000000  303.000000  303.000000  \n",
       "mean     0.990099  149.607261    0.326733    1.039604    1.600660    0.937294  \n",
       "std      0.994971   22.875003    0.469794    1.161075    0.616226    1.228536  \n",
       "min      0.000000   71.000000    0.000000    0.000000    1.000000    0.000000  \n",
       "25%      0.000000  133.500000    0.000000    0.000000    1.000000    0.000000  \n",
       "50%      1.000000  153.000000    0.000000    0.800000    2.000000    0.000000  \n",
       "75%      2.000000  166.000000    1.000000    1.600000    2.000000    2.000000  \n",
       "max      2.000000  202.000000    1.000000    6.200000    3.000000    4.000000  "
      ]
     },
     "execution_count": 148,
     "metadata": {},
     "output_type": "execute_result"
    }
   ],
   "source": [
    "raw_data.describe()"
   ]
  },
  {
   "cell_type": "markdown",
   "id": "a08d545a-f3bb-427d-b638-8907222fd2e9",
   "metadata": {},
   "source": [
    "<p style=\"color:#004080; font-family:Arial, sans-serif; padding: 10px;  background-color:#e6f0ff;\">Checking the data types</p>"
   ]
  },
  {
   "cell_type": "code",
   "execution_count": 149,
   "id": "4a3053dc-838e-40da-9a69-c29d8719cd37",
   "metadata": {},
   "outputs": [
    {
     "name": "stdout",
     "output_type": "stream",
     "text": [
      "<class 'pandas.core.frame.DataFrame'>\n",
      "RangeIndex: 303 entries, 0 to 302\n",
      "Data columns (total 14 columns):\n",
      " #   Column    Non-Null Count  Dtype  \n",
      "---  ------    --------------  -----  \n",
      " 0   age       303 non-null    float64\n",
      " 1   sex       303 non-null    float64\n",
      " 2   cp        303 non-null    float64\n",
      " 3   trestbps  303 non-null    float64\n",
      " 4   chol      303 non-null    float64\n",
      " 5   fbs       303 non-null    float64\n",
      " 6   restecg   303 non-null    float64\n",
      " 7   thalach   303 non-null    float64\n",
      " 8   exang     303 non-null    float64\n",
      " 9   oldpeak   303 non-null    float64\n",
      " 10  slope     303 non-null    float64\n",
      " 11  ca        303 non-null    object \n",
      " 12  thal      303 non-null    object \n",
      " 13  target    303 non-null    int64  \n",
      "dtypes: float64(11), int64(1), object(2)\n",
      "memory usage: 33.3+ KB\n"
     ]
    }
   ],
   "source": [
    "raw_data.info()"
   ]
  },
  {
   "cell_type": "markdown",
   "id": "e58f9ed2-4f4c-41fe-8661-1e5fe0e67c28",
   "metadata": {},
   "source": [
    "<p style=\"color:#004080; font-family:Arial, sans-serif; padding: 10px;  background-color:#e6f0ff;\">Checking the rows that contains NaNs values represented by '?'</p>"
   ]
  },
  {
   "cell_type": "code",
   "execution_count": 150,
   "id": "8145b2cc-1414-4aaf-824e-684fa9b4a907",
   "metadata": {},
   "outputs": [
    {
     "data": {
      "text/html": [
       "<div>\n",
       "<style scoped>\n",
       "    .dataframe tbody tr th:only-of-type {\n",
       "        vertical-align: middle;\n",
       "    }\n",
       "\n",
       "    .dataframe tbody tr th {\n",
       "        vertical-align: top;\n",
       "    }\n",
       "\n",
       "    .dataframe thead th {\n",
       "        text-align: right;\n",
       "    }\n",
       "</style>\n",
       "<table border=\"1\" class=\"dataframe\">\n",
       "  <thead>\n",
       "    <tr style=\"text-align: right;\">\n",
       "      <th></th>\n",
       "      <th>age</th>\n",
       "      <th>sex</th>\n",
       "      <th>cp</th>\n",
       "      <th>trestbps</th>\n",
       "      <th>chol</th>\n",
       "      <th>fbs</th>\n",
       "      <th>restecg</th>\n",
       "      <th>thalach</th>\n",
       "      <th>exang</th>\n",
       "      <th>oldpeak</th>\n",
       "      <th>slope</th>\n",
       "      <th>ca</th>\n",
       "      <th>thal</th>\n",
       "      <th>target</th>\n",
       "    </tr>\n",
       "  </thead>\n",
       "  <tbody>\n",
       "    <tr>\n",
       "      <th>106</th>\n",
       "      <td>52.0</td>\n",
       "      <td>1.0</td>\n",
       "      <td>4.0</td>\n",
       "      <td>128.0</td>\n",
       "      <td>204.0</td>\n",
       "      <td>1.0</td>\n",
       "      <td>0.0</td>\n",
       "      <td>156.0</td>\n",
       "      <td>1.0</td>\n",
       "      <td>1.0</td>\n",
       "      <td>2.0</td>\n",
       "      <td>0.0</td>\n",
       "      <td>?</td>\n",
       "      <td>2</td>\n",
       "    </tr>\n",
       "    <tr>\n",
       "      <th>119</th>\n",
       "      <td>53.0</td>\n",
       "      <td>0.0</td>\n",
       "      <td>3.0</td>\n",
       "      <td>128.0</td>\n",
       "      <td>216.0</td>\n",
       "      <td>0.0</td>\n",
       "      <td>2.0</td>\n",
       "      <td>115.0</td>\n",
       "      <td>0.0</td>\n",
       "      <td>0.0</td>\n",
       "      <td>1.0</td>\n",
       "      <td>0.0</td>\n",
       "      <td>?</td>\n",
       "      <td>0</td>\n",
       "    </tr>\n",
       "  </tbody>\n",
       "</table>\n",
       "</div>"
      ],
      "text/plain": [
       "      age  sex   cp  trestbps   chol  fbs  restecg  thalach  exang  oldpeak  \\\n",
       "106  52.0  1.0  4.0     128.0  204.0  1.0      0.0    156.0    1.0      1.0   \n",
       "119  53.0  0.0  3.0     128.0  216.0  0.0      2.0    115.0    0.0      0.0   \n",
       "\n",
       "     slope   ca thal  target  \n",
       "106    2.0  0.0    ?       2  \n",
       "119    1.0  0.0    ?       0  "
      ]
     },
     "execution_count": 150,
     "metadata": {},
     "output_type": "execute_result"
    }
   ],
   "source": [
    "raw_data[raw_data.thal == '?']"
   ]
  },
  {
   "cell_type": "code",
   "execution_count": 151,
   "id": "5ed5a8d7-4b85-4314-8eda-6d1eecfe77d4",
   "metadata": {},
   "outputs": [
    {
     "data": {
      "text/html": [
       "<div>\n",
       "<style scoped>\n",
       "    .dataframe tbody tr th:only-of-type {\n",
       "        vertical-align: middle;\n",
       "    }\n",
       "\n",
       "    .dataframe tbody tr th {\n",
       "        vertical-align: top;\n",
       "    }\n",
       "\n",
       "    .dataframe thead th {\n",
       "        text-align: right;\n",
       "    }\n",
       "</style>\n",
       "<table border=\"1\" class=\"dataframe\">\n",
       "  <thead>\n",
       "    <tr style=\"text-align: right;\">\n",
       "      <th></th>\n",
       "      <th>age</th>\n",
       "      <th>sex</th>\n",
       "      <th>cp</th>\n",
       "      <th>trestbps</th>\n",
       "      <th>chol</th>\n",
       "      <th>fbs</th>\n",
       "      <th>restecg</th>\n",
       "      <th>thalach</th>\n",
       "      <th>exang</th>\n",
       "      <th>oldpeak</th>\n",
       "      <th>slope</th>\n",
       "      <th>ca</th>\n",
       "      <th>thal</th>\n",
       "      <th>target</th>\n",
       "    </tr>\n",
       "  </thead>\n",
       "  <tbody>\n",
       "    <tr>\n",
       "      <th>9</th>\n",
       "      <td>38.0</td>\n",
       "      <td>1.0</td>\n",
       "      <td>3.0</td>\n",
       "      <td>138.0</td>\n",
       "      <td>175.0</td>\n",
       "      <td>0.0</td>\n",
       "      <td>0.0</td>\n",
       "      <td>173.0</td>\n",
       "      <td>0.0</td>\n",
       "      <td>0.0</td>\n",
       "      <td>1.0</td>\n",
       "      <td>?</td>\n",
       "      <td>3.0</td>\n",
       "      <td>0</td>\n",
       "    </tr>\n",
       "    <tr>\n",
       "      <th>41</th>\n",
       "      <td>43.0</td>\n",
       "      <td>1.0</td>\n",
       "      <td>4.0</td>\n",
       "      <td>132.0</td>\n",
       "      <td>247.0</td>\n",
       "      <td>1.0</td>\n",
       "      <td>2.0</td>\n",
       "      <td>143.0</td>\n",
       "      <td>1.0</td>\n",
       "      <td>0.1</td>\n",
       "      <td>2.0</td>\n",
       "      <td>?</td>\n",
       "      <td>7.0</td>\n",
       "      <td>1</td>\n",
       "    </tr>\n",
       "    <tr>\n",
       "      <th>109</th>\n",
       "      <td>52.0</td>\n",
       "      <td>1.0</td>\n",
       "      <td>3.0</td>\n",
       "      <td>138.0</td>\n",
       "      <td>223.0</td>\n",
       "      <td>0.0</td>\n",
       "      <td>0.0</td>\n",
       "      <td>169.0</td>\n",
       "      <td>0.0</td>\n",
       "      <td>0.0</td>\n",
       "      <td>1.0</td>\n",
       "      <td>?</td>\n",
       "      <td>3.0</td>\n",
       "      <td>0</td>\n",
       "    </tr>\n",
       "    <tr>\n",
       "      <th>181</th>\n",
       "      <td>58.0</td>\n",
       "      <td>1.0</td>\n",
       "      <td>2.0</td>\n",
       "      <td>125.0</td>\n",
       "      <td>220.0</td>\n",
       "      <td>0.0</td>\n",
       "      <td>0.0</td>\n",
       "      <td>144.0</td>\n",
       "      <td>0.0</td>\n",
       "      <td>0.4</td>\n",
       "      <td>2.0</td>\n",
       "      <td>?</td>\n",
       "      <td>7.0</td>\n",
       "      <td>0</td>\n",
       "    </tr>\n",
       "  </tbody>\n",
       "</table>\n",
       "</div>"
      ],
      "text/plain": [
       "      age  sex   cp  trestbps   chol  fbs  restecg  thalach  exang  oldpeak  \\\n",
       "9    38.0  1.0  3.0     138.0  175.0  0.0      0.0    173.0    0.0      0.0   \n",
       "41   43.0  1.0  4.0     132.0  247.0  1.0      2.0    143.0    1.0      0.1   \n",
       "109  52.0  1.0  3.0     138.0  223.0  0.0      0.0    169.0    0.0      0.0   \n",
       "181  58.0  1.0  2.0     125.0  220.0  0.0      0.0    144.0    0.0      0.4   \n",
       "\n",
       "     slope ca thal  target  \n",
       "9      1.0  ?  3.0       0  \n",
       "41     2.0  ?  7.0       1  \n",
       "109    1.0  ?  3.0       0  \n",
       "181    2.0  ?  7.0       0  "
      ]
     },
     "execution_count": 151,
     "metadata": {},
     "output_type": "execute_result"
    }
   ],
   "source": [
    "raw_data[raw_data.ca == '?']"
   ]
  },
  {
   "cell_type": "markdown",
   "id": "09979628-9a42-42f5-ad71-63c48dfb3551",
   "metadata": {},
   "source": [
    "<p style=\"color:#004080; font-family:Arial, sans-serif; padding: 10px;  background-color:#e6f0ff;\">Six rows found with the NaNs values which is not good <br> I want to drop those rows</p>"
   ]
  },
  {
   "cell_type": "code",
   "execution_count": 152,
   "id": "8efabbd3-4e3f-41ca-9eb2-1d3f7befd323",
   "metadata": {},
   "outputs": [
    {
     "data": {
      "text/plain": [
       "(297, 14)"
      ]
     },
     "execution_count": 152,
     "metadata": {},
     "output_type": "execute_result"
    }
   ],
   "source": [
    "#create index lists for the row which contain NaNs\n",
    "ca_Nan_index = raw_data.index[raw_data.ca=='?'].tolist()\n",
    "thal_Nan_index = raw_data.index[raw_data.thal == '?'].tolist()\n",
    "\n",
    "#concatenate list\n",
    "drop_Nan_index = thal_Nan_index + ca_Nan_index\n",
    "\n",
    "\n",
    "#dropping NaNs rows\n",
    "raw_data = raw_data.drop(raw_data.index[drop_Nan_index])\n",
    "\n",
    "#checking the dataset size\n",
    "raw_data.shape"
   ]
  },
  {
   "cell_type": "markdown",
   "id": "a943bb6e-5ddd-4f7a-9f7f-b0fc5b0ac6a3",
   "metadata": {},
   "source": [
    "<p style=\"color:#004080; font-family:Arial, sans-serif; padding: 10px;  background-color:#e6f0ff;\">Checking for missing values</p>"
   ]
  },
  {
   "cell_type": "code",
   "execution_count": 153,
   "id": "c57fadc5-6ae9-4da5-bcc6-ebf2803b8384",
   "metadata": {},
   "outputs": [
    {
     "data": {
      "text/plain": [
       "age         0\n",
       "sex         0\n",
       "cp          0\n",
       "trestbps    0\n",
       "chol        0\n",
       "fbs         0\n",
       "restecg     0\n",
       "thalach     0\n",
       "exang       0\n",
       "oldpeak     0\n",
       "slope       0\n",
       "ca          0\n",
       "thal        0\n",
       "target      0\n",
       "dtype: int64"
      ]
     },
     "execution_count": 153,
     "metadata": {},
     "output_type": "execute_result"
    }
   ],
   "source": [
    "raw_data.isnull().sum()"
   ]
  },
  {
   "cell_type": "markdown",
   "id": "0f1f1691-65e1-4a58-830c-4425a441589c",
   "metadata": {},
   "source": [
    "<p style=\"color:#004080; font-family:Arial, sans-serif; padding: 10px;  background-color:#e6f0ff;\">Checking for duplicate values</p>"
   ]
  },
  {
   "cell_type": "code",
   "execution_count": 154,
   "id": "9399c2a6-87d7-486d-8ec6-a35d94e10c97",
   "metadata": {},
   "outputs": [
    {
     "name": "stdout",
     "output_type": "stream",
     "text": [
      "No duplicate value\n"
     ]
    }
   ],
   "source": [
    "duplicate_value  = raw_data.duplicated().any()\n",
    "if duplicate_value:\n",
    "    print('There are same duplicate values')\n",
    "else:\n",
    "    print('No duplicate value')"
   ]
  },
  {
   "cell_type": "markdown",
   "id": "fbb7ba55-aa1b-4e60-abdf-b460852c4688",
   "metadata": {},
   "source": [
    "<div style=\"color:#004080; font-family:Arial, sans-serif; padding: 10px;  background-color:#e6f0ff;\">\n",
    "<p>For Target attribute we have 0 to represent a person without a disease and values(1,2,3,4) to represent positive results now we want to make sure that we have two values 0 and 1 so I will replace values 1,2,3,4 with value 1 to represent positive results.<br>So that:</p>\n",
    "<ul>\n",
    "    <li>Value 0 = Disease free</li>\n",
    "    <li>Value 1 = Disease</li>\n",
    "</ul>\n",
    "</div>\n",
    "\n"
   ]
  },
  {
   "cell_type": "code",
   "execution_count": 155,
   "id": "d2590e35-d9d0-4757-8575-be250a4f4fbd",
   "metadata": {},
   "outputs": [
    {
     "data": {
      "text/html": [
       "<div>\n",
       "<style scoped>\n",
       "    .dataframe tbody tr th:only-of-type {\n",
       "        vertical-align: middle;\n",
       "    }\n",
       "\n",
       "    .dataframe tbody tr th {\n",
       "        vertical-align: top;\n",
       "    }\n",
       "\n",
       "    .dataframe thead th {\n",
       "        text-align: right;\n",
       "    }\n",
       "</style>\n",
       "<table border=\"1\" class=\"dataframe\">\n",
       "  <thead>\n",
       "    <tr style=\"text-align: right;\">\n",
       "      <th></th>\n",
       "      <th>age</th>\n",
       "      <th>sex</th>\n",
       "      <th>cp</th>\n",
       "      <th>trestbps</th>\n",
       "      <th>chol</th>\n",
       "      <th>fbs</th>\n",
       "      <th>restecg</th>\n",
       "      <th>thalach</th>\n",
       "      <th>exang</th>\n",
       "      <th>oldpeak</th>\n",
       "      <th>slope</th>\n",
       "      <th>ca</th>\n",
       "      <th>thal</th>\n",
       "      <th>target</th>\n",
       "    </tr>\n",
       "  </thead>\n",
       "  <tbody>\n",
       "    <tr>\n",
       "      <th>0</th>\n",
       "      <td>29.0</td>\n",
       "      <td>1.0</td>\n",
       "      <td>2.0</td>\n",
       "      <td>130.0</td>\n",
       "      <td>204.0</td>\n",
       "      <td>0.0</td>\n",
       "      <td>2.0</td>\n",
       "      <td>202.0</td>\n",
       "      <td>0.0</td>\n",
       "      <td>0.0</td>\n",
       "      <td>1.0</td>\n",
       "      <td>0.0</td>\n",
       "      <td>3.0</td>\n",
       "      <td>0</td>\n",
       "    </tr>\n",
       "    <tr>\n",
       "      <th>1</th>\n",
       "      <td>34.0</td>\n",
       "      <td>1.0</td>\n",
       "      <td>1.0</td>\n",
       "      <td>118.0</td>\n",
       "      <td>182.0</td>\n",
       "      <td>0.0</td>\n",
       "      <td>2.0</td>\n",
       "      <td>174.0</td>\n",
       "      <td>0.0</td>\n",
       "      <td>0.0</td>\n",
       "      <td>1.0</td>\n",
       "      <td>0.0</td>\n",
       "      <td>3.0</td>\n",
       "      <td>0</td>\n",
       "    </tr>\n",
       "    <tr>\n",
       "      <th>2</th>\n",
       "      <td>34.0</td>\n",
       "      <td>0.0</td>\n",
       "      <td>2.0</td>\n",
       "      <td>118.0</td>\n",
       "      <td>210.0</td>\n",
       "      <td>0.0</td>\n",
       "      <td>0.0</td>\n",
       "      <td>192.0</td>\n",
       "      <td>0.0</td>\n",
       "      <td>0.7</td>\n",
       "      <td>1.0</td>\n",
       "      <td>0.0</td>\n",
       "      <td>3.0</td>\n",
       "      <td>0</td>\n",
       "    </tr>\n",
       "    <tr>\n",
       "      <th>3</th>\n",
       "      <td>35.0</td>\n",
       "      <td>1.0</td>\n",
       "      <td>2.0</td>\n",
       "      <td>122.0</td>\n",
       "      <td>192.0</td>\n",
       "      <td>0.0</td>\n",
       "      <td>0.0</td>\n",
       "      <td>174.0</td>\n",
       "      <td>0.0</td>\n",
       "      <td>0.0</td>\n",
       "      <td>1.0</td>\n",
       "      <td>0.0</td>\n",
       "      <td>3.0</td>\n",
       "      <td>0</td>\n",
       "    </tr>\n",
       "    <tr>\n",
       "      <th>4</th>\n",
       "      <td>35.0</td>\n",
       "      <td>0.0</td>\n",
       "      <td>4.0</td>\n",
       "      <td>138.0</td>\n",
       "      <td>183.0</td>\n",
       "      <td>0.0</td>\n",
       "      <td>0.0</td>\n",
       "      <td>182.0</td>\n",
       "      <td>0.0</td>\n",
       "      <td>1.4</td>\n",
       "      <td>1.0</td>\n",
       "      <td>0.0</td>\n",
       "      <td>3.0</td>\n",
       "      <td>0</td>\n",
       "    </tr>\n",
       "    <tr>\n",
       "      <th>5</th>\n",
       "      <td>35.0</td>\n",
       "      <td>1.0</td>\n",
       "      <td>4.0</td>\n",
       "      <td>120.0</td>\n",
       "      <td>198.0</td>\n",
       "      <td>0.0</td>\n",
       "      <td>0.0</td>\n",
       "      <td>130.0</td>\n",
       "      <td>1.0</td>\n",
       "      <td>1.6</td>\n",
       "      <td>2.0</td>\n",
       "      <td>0.0</td>\n",
       "      <td>7.0</td>\n",
       "      <td>1</td>\n",
       "    </tr>\n",
       "    <tr>\n",
       "      <th>6</th>\n",
       "      <td>35.0</td>\n",
       "      <td>1.0</td>\n",
       "      <td>4.0</td>\n",
       "      <td>126.0</td>\n",
       "      <td>282.0</td>\n",
       "      <td>0.0</td>\n",
       "      <td>2.0</td>\n",
       "      <td>156.0</td>\n",
       "      <td>1.0</td>\n",
       "      <td>0.0</td>\n",
       "      <td>1.0</td>\n",
       "      <td>0.0</td>\n",
       "      <td>7.0</td>\n",
       "      <td>1</td>\n",
       "    </tr>\n",
       "    <tr>\n",
       "      <th>7</th>\n",
       "      <td>37.0</td>\n",
       "      <td>1.0</td>\n",
       "      <td>3.0</td>\n",
       "      <td>130.0</td>\n",
       "      <td>250.0</td>\n",
       "      <td>0.0</td>\n",
       "      <td>0.0</td>\n",
       "      <td>187.0</td>\n",
       "      <td>0.0</td>\n",
       "      <td>3.5</td>\n",
       "      <td>3.0</td>\n",
       "      <td>0.0</td>\n",
       "      <td>3.0</td>\n",
       "      <td>0</td>\n",
       "    </tr>\n",
       "    <tr>\n",
       "      <th>8</th>\n",
       "      <td>37.0</td>\n",
       "      <td>0.0</td>\n",
       "      <td>3.0</td>\n",
       "      <td>120.0</td>\n",
       "      <td>215.0</td>\n",
       "      <td>0.0</td>\n",
       "      <td>0.0</td>\n",
       "      <td>170.0</td>\n",
       "      <td>0.0</td>\n",
       "      <td>0.0</td>\n",
       "      <td>1.0</td>\n",
       "      <td>0.0</td>\n",
       "      <td>3.0</td>\n",
       "      <td>0</td>\n",
       "    </tr>\n",
       "    <tr>\n",
       "      <th>10</th>\n",
       "      <td>38.0</td>\n",
       "      <td>1.0</td>\n",
       "      <td>1.0</td>\n",
       "      <td>120.0</td>\n",
       "      <td>231.0</td>\n",
       "      <td>0.0</td>\n",
       "      <td>0.0</td>\n",
       "      <td>182.0</td>\n",
       "      <td>1.0</td>\n",
       "      <td>3.8</td>\n",
       "      <td>2.0</td>\n",
       "      <td>0.0</td>\n",
       "      <td>7.0</td>\n",
       "      <td>1</td>\n",
       "    </tr>\n",
       "  </tbody>\n",
       "</table>\n",
       "</div>"
      ],
      "text/plain": [
       "     age  sex   cp  trestbps   chol  fbs  restecg  thalach  exang  oldpeak  \\\n",
       "0   29.0  1.0  2.0     130.0  204.0  0.0      2.0    202.0    0.0      0.0   \n",
       "1   34.0  1.0  1.0     118.0  182.0  0.0      2.0    174.0    0.0      0.0   \n",
       "2   34.0  0.0  2.0     118.0  210.0  0.0      0.0    192.0    0.0      0.7   \n",
       "3   35.0  1.0  2.0     122.0  192.0  0.0      0.0    174.0    0.0      0.0   \n",
       "4   35.0  0.0  4.0     138.0  183.0  0.0      0.0    182.0    0.0      1.4   \n",
       "5   35.0  1.0  4.0     120.0  198.0  0.0      0.0    130.0    1.0      1.6   \n",
       "6   35.0  1.0  4.0     126.0  282.0  0.0      2.0    156.0    1.0      0.0   \n",
       "7   37.0  1.0  3.0     130.0  250.0  0.0      0.0    187.0    0.0      3.5   \n",
       "8   37.0  0.0  3.0     120.0  215.0  0.0      0.0    170.0    0.0      0.0   \n",
       "10  38.0  1.0  1.0     120.0  231.0  0.0      0.0    182.0    1.0      3.8   \n",
       "\n",
       "    slope   ca thal  target  \n",
       "0     1.0  0.0  3.0       0  \n",
       "1     1.0  0.0  3.0       0  \n",
       "2     1.0  0.0  3.0       0  \n",
       "3     1.0  0.0  3.0       0  \n",
       "4     1.0  0.0  3.0       0  \n",
       "5     2.0  0.0  7.0       1  \n",
       "6     1.0  0.0  7.0       1  \n",
       "7     3.0  0.0  3.0       0  \n",
       "8     1.0  0.0  3.0       0  \n",
       "10    2.0  0.0  7.0       1  "
      ]
     },
     "execution_count": 155,
     "metadata": {},
     "output_type": "execute_result"
    }
   ],
   "source": [
    "raw_data.loc[raw_data['target']>0,'target']=1\n",
    "raw_data.head(10)"
   ]
  },
  {
   "cell_type": "markdown",
   "id": "2e30455d-2a07-4344-a7df-cb830fed7253",
   "metadata": {},
   "source": [
    "<p style=\"color:#004080; font-family:Arial, sans-serif; padding: 10px;  background-color:#e6f0ff;\">Convert all attributes to float</p>"
   ]
  },
  {
   "cell_type": "code",
   "execution_count": 156,
   "id": "8a9d0180-9acc-4994-a3ad-75867c04bc97",
   "metadata": {},
   "outputs": [
    {
     "name": "stdout",
     "output_type": "stream",
     "text": [
      "<class 'pandas.core.frame.DataFrame'>\n",
      "Index: 297 entries, 0 to 302\n",
      "Data columns (total 14 columns):\n",
      " #   Column    Non-Null Count  Dtype  \n",
      "---  ------    --------------  -----  \n",
      " 0   age       297 non-null    float64\n",
      " 1   sex       297 non-null    float64\n",
      " 2   cp        297 non-null    float64\n",
      " 3   trestbps  297 non-null    float64\n",
      " 4   chol      297 non-null    float64\n",
      " 5   fbs       297 non-null    float64\n",
      " 6   restecg   297 non-null    float64\n",
      " 7   thalach   297 non-null    float64\n",
      " 8   exang     297 non-null    float64\n",
      " 9   oldpeak   297 non-null    float64\n",
      " 10  slope     297 non-null    float64\n",
      " 11  ca        297 non-null    float64\n",
      " 12  thal      297 non-null    float64\n",
      " 13  target    297 non-null    int64  \n",
      "dtypes: float64(13), int64(1)\n",
      "memory usage: 34.8 KB\n"
     ]
    }
   ],
   "source": [
    "raw_data = raw_data.astype({\"age\":'float', \"sex\":'float',\"cp\":'float',\"trestbps\":'float',\"thalach\":'float', \"chol\":'float',\"fbs\":'float',\"restecg\":'float',\n",
    "                \"exang\":'float',\"oldpeak\":'float',\"slope\":'float',\"ca\":'float',\"thal\":'float'})\n",
    "raw_data.info()\n"
   ]
  },
  {
   "cell_type": "markdown",
   "id": "b2d5fbbc-529f-477a-988a-3cd0b58bf809",
   "metadata": {},
   "source": [
    "<h1 style=\"color:#004080; font-family:Arial, sans-serif; padding: 10px;  background-color:#e6f0ff;\">Exploring Relationships Between attributes</h1>"
   ]
  },
  {
   "cell_type": "code",
   "execution_count": 157,
   "id": "8306833d-0104-4c77-8f55-abe98136fb2a",
   "metadata": {},
   "outputs": [
    {
     "data": {
      "text/html": [
       "<div>\n",
       "<style scoped>\n",
       "    .dataframe tbody tr th:only-of-type {\n",
       "        vertical-align: middle;\n",
       "    }\n",
       "\n",
       "    .dataframe tbody tr th {\n",
       "        vertical-align: top;\n",
       "    }\n",
       "\n",
       "    .dataframe thead th {\n",
       "        text-align: right;\n",
       "    }\n",
       "</style>\n",
       "<table border=\"1\" class=\"dataframe\">\n",
       "  <thead>\n",
       "    <tr style=\"text-align: right;\">\n",
       "      <th></th>\n",
       "      <th>age</th>\n",
       "      <th>sex</th>\n",
       "      <th>cp</th>\n",
       "      <th>trestbps</th>\n",
       "      <th>chol</th>\n",
       "      <th>fbs</th>\n",
       "      <th>restecg</th>\n",
       "      <th>thalach</th>\n",
       "      <th>exang</th>\n",
       "      <th>oldpeak</th>\n",
       "      <th>slope</th>\n",
       "      <th>ca</th>\n",
       "      <th>thal</th>\n",
       "      <th>target</th>\n",
       "    </tr>\n",
       "  </thead>\n",
       "  <tbody>\n",
       "    <tr>\n",
       "      <th>age</th>\n",
       "      <td>1.000000</td>\n",
       "      <td>-0.092399</td>\n",
       "      <td>0.110471</td>\n",
       "      <td>0.290476</td>\n",
       "      <td>0.202644</td>\n",
       "      <td>0.132062</td>\n",
       "      <td>0.149917</td>\n",
       "      <td>-0.394563</td>\n",
       "      <td>0.096489</td>\n",
       "      <td>0.197123</td>\n",
       "      <td>0.159405</td>\n",
       "      <td>0.362210</td>\n",
       "      <td>0.126586</td>\n",
       "      <td>0.227075</td>\n",
       "    </tr>\n",
       "    <tr>\n",
       "      <th>sex</th>\n",
       "      <td>-0.092399</td>\n",
       "      <td>1.000000</td>\n",
       "      <td>0.008908</td>\n",
       "      <td>-0.066340</td>\n",
       "      <td>-0.198089</td>\n",
       "      <td>0.038850</td>\n",
       "      <td>0.033897</td>\n",
       "      <td>-0.060496</td>\n",
       "      <td>0.143581</td>\n",
       "      <td>0.106567</td>\n",
       "      <td>0.033345</td>\n",
       "      <td>0.091925</td>\n",
       "      <td>0.383652</td>\n",
       "      <td>0.278467</td>\n",
       "    </tr>\n",
       "    <tr>\n",
       "      <th>cp</th>\n",
       "      <td>0.110471</td>\n",
       "      <td>0.008908</td>\n",
       "      <td>1.000000</td>\n",
       "      <td>-0.036980</td>\n",
       "      <td>0.072088</td>\n",
       "      <td>-0.057663</td>\n",
       "      <td>0.063905</td>\n",
       "      <td>-0.339308</td>\n",
       "      <td>0.377525</td>\n",
       "      <td>0.203244</td>\n",
       "      <td>0.151079</td>\n",
       "      <td>0.235644</td>\n",
       "      <td>0.268500</td>\n",
       "      <td>0.408945</td>\n",
       "    </tr>\n",
       "    <tr>\n",
       "      <th>trestbps</th>\n",
       "      <td>0.290476</td>\n",
       "      <td>-0.066340</td>\n",
       "      <td>-0.036980</td>\n",
       "      <td>1.000000</td>\n",
       "      <td>0.131536</td>\n",
       "      <td>0.180860</td>\n",
       "      <td>0.149242</td>\n",
       "      <td>-0.049108</td>\n",
       "      <td>0.066691</td>\n",
       "      <td>0.191243</td>\n",
       "      <td>0.121172</td>\n",
       "      <td>0.097954</td>\n",
       "      <td>0.138183</td>\n",
       "      <td>0.153490</td>\n",
       "    </tr>\n",
       "    <tr>\n",
       "      <th>chol</th>\n",
       "      <td>0.202644</td>\n",
       "      <td>-0.198089</td>\n",
       "      <td>0.072088</td>\n",
       "      <td>0.131536</td>\n",
       "      <td>1.000000</td>\n",
       "      <td>0.012708</td>\n",
       "      <td>0.165046</td>\n",
       "      <td>-0.000075</td>\n",
       "      <td>0.059339</td>\n",
       "      <td>0.038596</td>\n",
       "      <td>-0.009215</td>\n",
       "      <td>0.115945</td>\n",
       "      <td>0.010859</td>\n",
       "      <td>0.080285</td>\n",
       "    </tr>\n",
       "    <tr>\n",
       "      <th>fbs</th>\n",
       "      <td>0.132062</td>\n",
       "      <td>0.038850</td>\n",
       "      <td>-0.057663</td>\n",
       "      <td>0.180860</td>\n",
       "      <td>0.012708</td>\n",
       "      <td>1.000000</td>\n",
       "      <td>0.068831</td>\n",
       "      <td>-0.007842</td>\n",
       "      <td>-0.000893</td>\n",
       "      <td>0.008311</td>\n",
       "      <td>0.047819</td>\n",
       "      <td>0.152086</td>\n",
       "      <td>0.062209</td>\n",
       "      <td>0.003167</td>\n",
       "    </tr>\n",
       "    <tr>\n",
       "      <th>restecg</th>\n",
       "      <td>0.149917</td>\n",
       "      <td>0.033897</td>\n",
       "      <td>0.063905</td>\n",
       "      <td>0.149242</td>\n",
       "      <td>0.165046</td>\n",
       "      <td>0.068831</td>\n",
       "      <td>1.000000</td>\n",
       "      <td>-0.072290</td>\n",
       "      <td>0.081874</td>\n",
       "      <td>0.113726</td>\n",
       "      <td>0.135141</td>\n",
       "      <td>0.129021</td>\n",
       "      <td>0.018795</td>\n",
       "      <td>0.166343</td>\n",
       "    </tr>\n",
       "    <tr>\n",
       "      <th>thalach</th>\n",
       "      <td>-0.394563</td>\n",
       "      <td>-0.060496</td>\n",
       "      <td>-0.339308</td>\n",
       "      <td>-0.049108</td>\n",
       "      <td>-0.000075</td>\n",
       "      <td>-0.007842</td>\n",
       "      <td>-0.072290</td>\n",
       "      <td>1.000000</td>\n",
       "      <td>-0.384368</td>\n",
       "      <td>-0.347640</td>\n",
       "      <td>-0.389307</td>\n",
       "      <td>-0.268727</td>\n",
       "      <td>-0.274831</td>\n",
       "      <td>-0.423817</td>\n",
       "    </tr>\n",
       "    <tr>\n",
       "      <th>exang</th>\n",
       "      <td>0.096489</td>\n",
       "      <td>0.143581</td>\n",
       "      <td>0.377525</td>\n",
       "      <td>0.066691</td>\n",
       "      <td>0.059339</td>\n",
       "      <td>-0.000893</td>\n",
       "      <td>0.081874</td>\n",
       "      <td>-0.384368</td>\n",
       "      <td>1.000000</td>\n",
       "      <td>0.289310</td>\n",
       "      <td>0.250572</td>\n",
       "      <td>0.148232</td>\n",
       "      <td>0.326927</td>\n",
       "      <td>0.421355</td>\n",
       "    </tr>\n",
       "    <tr>\n",
       "      <th>oldpeak</th>\n",
       "      <td>0.197123</td>\n",
       "      <td>0.106567</td>\n",
       "      <td>0.203244</td>\n",
       "      <td>0.191243</td>\n",
       "      <td>0.038596</td>\n",
       "      <td>0.008311</td>\n",
       "      <td>0.113726</td>\n",
       "      <td>-0.347640</td>\n",
       "      <td>0.289310</td>\n",
       "      <td>1.000000</td>\n",
       "      <td>0.579037</td>\n",
       "      <td>0.294452</td>\n",
       "      <td>0.344976</td>\n",
       "      <td>0.424052</td>\n",
       "    </tr>\n",
       "    <tr>\n",
       "      <th>slope</th>\n",
       "      <td>0.159405</td>\n",
       "      <td>0.033345</td>\n",
       "      <td>0.151079</td>\n",
       "      <td>0.121172</td>\n",
       "      <td>-0.009215</td>\n",
       "      <td>0.047819</td>\n",
       "      <td>0.135141</td>\n",
       "      <td>-0.389307</td>\n",
       "      <td>0.250572</td>\n",
       "      <td>0.579037</td>\n",
       "      <td>1.000000</td>\n",
       "      <td>0.109761</td>\n",
       "      <td>0.279688</td>\n",
       "      <td>0.333049</td>\n",
       "    </tr>\n",
       "    <tr>\n",
       "      <th>ca</th>\n",
       "      <td>0.362210</td>\n",
       "      <td>0.091925</td>\n",
       "      <td>0.235644</td>\n",
       "      <td>0.097954</td>\n",
       "      <td>0.115945</td>\n",
       "      <td>0.152086</td>\n",
       "      <td>0.129021</td>\n",
       "      <td>-0.268727</td>\n",
       "      <td>0.148232</td>\n",
       "      <td>0.294452</td>\n",
       "      <td>0.109761</td>\n",
       "      <td>1.000000</td>\n",
       "      <td>0.256382</td>\n",
       "      <td>0.463189</td>\n",
       "    </tr>\n",
       "    <tr>\n",
       "      <th>thal</th>\n",
       "      <td>0.126586</td>\n",
       "      <td>0.383652</td>\n",
       "      <td>0.268500</td>\n",
       "      <td>0.138183</td>\n",
       "      <td>0.010859</td>\n",
       "      <td>0.062209</td>\n",
       "      <td>0.018795</td>\n",
       "      <td>-0.274831</td>\n",
       "      <td>0.326927</td>\n",
       "      <td>0.344976</td>\n",
       "      <td>0.279688</td>\n",
       "      <td>0.256382</td>\n",
       "      <td>1.000000</td>\n",
       "      <td>0.526640</td>\n",
       "    </tr>\n",
       "    <tr>\n",
       "      <th>target</th>\n",
       "      <td>0.227075</td>\n",
       "      <td>0.278467</td>\n",
       "      <td>0.408945</td>\n",
       "      <td>0.153490</td>\n",
       "      <td>0.080285</td>\n",
       "      <td>0.003167</td>\n",
       "      <td>0.166343</td>\n",
       "      <td>-0.423817</td>\n",
       "      <td>0.421355</td>\n",
       "      <td>0.424052</td>\n",
       "      <td>0.333049</td>\n",
       "      <td>0.463189</td>\n",
       "      <td>0.526640</td>\n",
       "      <td>1.000000</td>\n",
       "    </tr>\n",
       "  </tbody>\n",
       "</table>\n",
       "</div>"
      ],
      "text/plain": [
       "               age       sex        cp  trestbps      chol       fbs  \\\n",
       "age       1.000000 -0.092399  0.110471  0.290476  0.202644  0.132062   \n",
       "sex      -0.092399  1.000000  0.008908 -0.066340 -0.198089  0.038850   \n",
       "cp        0.110471  0.008908  1.000000 -0.036980  0.072088 -0.057663   \n",
       "trestbps  0.290476 -0.066340 -0.036980  1.000000  0.131536  0.180860   \n",
       "chol      0.202644 -0.198089  0.072088  0.131536  1.000000  0.012708   \n",
       "fbs       0.132062  0.038850 -0.057663  0.180860  0.012708  1.000000   \n",
       "restecg   0.149917  0.033897  0.063905  0.149242  0.165046  0.068831   \n",
       "thalach  -0.394563 -0.060496 -0.339308 -0.049108 -0.000075 -0.007842   \n",
       "exang     0.096489  0.143581  0.377525  0.066691  0.059339 -0.000893   \n",
       "oldpeak   0.197123  0.106567  0.203244  0.191243  0.038596  0.008311   \n",
       "slope     0.159405  0.033345  0.151079  0.121172 -0.009215  0.047819   \n",
       "ca        0.362210  0.091925  0.235644  0.097954  0.115945  0.152086   \n",
       "thal      0.126586  0.383652  0.268500  0.138183  0.010859  0.062209   \n",
       "target    0.227075  0.278467  0.408945  0.153490  0.080285  0.003167   \n",
       "\n",
       "           restecg   thalach     exang   oldpeak     slope        ca  \\\n",
       "age       0.149917 -0.394563  0.096489  0.197123  0.159405  0.362210   \n",
       "sex       0.033897 -0.060496  0.143581  0.106567  0.033345  0.091925   \n",
       "cp        0.063905 -0.339308  0.377525  0.203244  0.151079  0.235644   \n",
       "trestbps  0.149242 -0.049108  0.066691  0.191243  0.121172  0.097954   \n",
       "chol      0.165046 -0.000075  0.059339  0.038596 -0.009215  0.115945   \n",
       "fbs       0.068831 -0.007842 -0.000893  0.008311  0.047819  0.152086   \n",
       "restecg   1.000000 -0.072290  0.081874  0.113726  0.135141  0.129021   \n",
       "thalach  -0.072290  1.000000 -0.384368 -0.347640 -0.389307 -0.268727   \n",
       "exang     0.081874 -0.384368  1.000000  0.289310  0.250572  0.148232   \n",
       "oldpeak   0.113726 -0.347640  0.289310  1.000000  0.579037  0.294452   \n",
       "slope     0.135141 -0.389307  0.250572  0.579037  1.000000  0.109761   \n",
       "ca        0.129021 -0.268727  0.148232  0.294452  0.109761  1.000000   \n",
       "thal      0.018795 -0.274831  0.326927  0.344976  0.279688  0.256382   \n",
       "target    0.166343 -0.423817  0.421355  0.424052  0.333049  0.463189   \n",
       "\n",
       "              thal    target  \n",
       "age       0.126586  0.227075  \n",
       "sex       0.383652  0.278467  \n",
       "cp        0.268500  0.408945  \n",
       "trestbps  0.138183  0.153490  \n",
       "chol      0.010859  0.080285  \n",
       "fbs       0.062209  0.003167  \n",
       "restecg   0.018795  0.166343  \n",
       "thalach  -0.274831 -0.423817  \n",
       "exang     0.326927  0.421355  \n",
       "oldpeak   0.344976  0.424052  \n",
       "slope     0.279688  0.333049  \n",
       "ca        0.256382  0.463189  \n",
       "thal      1.000000  0.526640  \n",
       "target    0.526640  1.000000  "
      ]
     },
     "execution_count": 157,
     "metadata": {},
     "output_type": "execute_result"
    }
   ],
   "source": [
    "raw_data.corr()"
   ]
  },
  {
   "cell_type": "code",
   "execution_count": 158,
   "id": "d03d478a-ccc3-4f69-b398-b95bf9d0fd70",
   "metadata": {},
   "outputs": [
    {
     "data": {
      "image/png": "[encoded data removed]",
      "text/plain": [
       "<Figure size 2400x1200 with 2 Axes>"
      ]
     },
     "metadata": {},
     "output_type": "display_data"
    }
   ],
   "source": [
    "plt.figure(figsize=(24,12))\n",
    "sns.heatmap(raw_data.corr(),cmap='coolwarm',annot=True,linewidths=1)\n",
    "plt.show()\n"
   ]
  },
  {
   "cell_type": "markdown",
   "id": "74934c2f-f474-4cd7-9254-54df8bf905ce",
   "metadata": {},
   "source": [
    "<h2 style=\"color:#004080; font-family:Arial, sans-serif; padding: 10px;  background-color:#e6f0ff;\">Number Affected and Unaffected by heart Problems</h2>"
   ]
  },
  {
   "cell_type": "code",
   "execution_count": 159,
   "id": "641ede4b-ff53-42e6-9855-1d0111aa91cc",
   "metadata": {},
   "outputs": [
    {
     "data": {
      "text/plain": [
       "Index(['age', 'sex', 'cp', 'trestbps', 'chol', 'fbs', 'restecg', 'thalach',\n",
       "       'exang', 'oldpeak', 'slope', 'ca', 'thal', 'target'],\n",
       "      dtype='object')"
      ]
     },
     "execution_count": 159,
     "metadata": {},
     "output_type": "execute_result"
    }
   ],
   "source": [
    "raw_data.columns"
   ]
  },
  {
   "cell_type": "code",
   "execution_count": 160,
   "id": "443309ea-bd39-4127-b7e0-78e3f7b8ef8e",
   "metadata": {},
   "outputs": [
    {
     "name": "stdout",
     "output_type": "stream",
     "text": [
      "People with Heart disease(1):  137\n",
      "People without heart disease(0): 160\n"
     ]
    },
    {
     "data": {
      "image/png": "[encoded data removed]",
      "text/plain": [
       "<Figure size 640x480 with 1 Axes>"
      ]
     },
     "metadata": {},
     "output_type": "display_data"
    }
   ],
   "source": [
    "no_disease = sum(raw_data.target == 0 )\n",
    "disease = sum(raw_data.target == 1)\n",
    "print('People with Heart disease(1): ',disease)\n",
    "print('People without heart disease(0):',no_disease)\n",
    "sns.countplot(x=raw_data.target).set_title('heart disease vs. no heart disease')\n",
    "plt.xticks([0,1],['No disease','Disease'])\n",
    "plt.show()\n"
   ]
  },
  {
   "cell_type": "markdown",
   "id": "9b05b0ca-731e-46b5-8483-717f051b4cf1",
   "metadata": {},
   "source": [
    "<h2 style=\"color:#004080; font-family:Arial, sans-serif; padding: 10px;  background-color:#e6f0ff;\">Distribution of Gender in the dataset</h2>"
   ]
  },
  {
   "cell_type": "code",
   "execution_count": 161,
   "id": "6177810d-5690-4d32-9cd4-e2c6bf3d8731",
   "metadata": {},
   "outputs": [
    {
     "name": "stdout",
     "output_type": "stream",
     "text": [
      "Female(0):  96\n",
      "Male(1): 201\n"
     ]
    },
    {
     "data": {
      "image/png": "[encoded data removed]",
      "text/plain": [
       "<Figure size 640x480 with 1 Axes>"
      ]
     },
     "metadata": {},
     "output_type": "display_data"
    }
   ],
   "source": [
    "female = sum(raw_data.sex == 0 )\n",
    "male = sum(raw_data.sex == 1)\n",
    "print('Female(0): ',female)\n",
    "print('Male(1):',male)\n",
    "sns.countplot(x=raw_data.sex).set_title('Female vs. Male')\n",
    "plt.xticks([0.0,1.0],['Female','Male'])\n",
    "plt.show()"
   ]
  },
  {
   "cell_type": "markdown",
   "id": "e6ca0637-4d6f-4812-8a34-bddd0c72a9f2",
   "metadata": {},
   "source": [
    "<h2 style=\"color:#004080; font-family:Arial, sans-serif; padding: 10px;  background-color:#e6f0ff;\">Distribution of disease among gender.</h2>"
   ]
  },
  {
   "cell_type": "code",
   "execution_count": 162,
   "id": "b95d0988-c5da-4ab6-a89e-d66c7f51d752",
   "metadata": {},
   "outputs": [
    {
     "data": {
      "image/png": "[encoded data removed]",
      "text/plain": [
       "<Figure size 640x480 with 1 Axes>"
      ]
     },
     "metadata": {},
     "output_type": "display_data"
    }
   ],
   "source": [
    "raw_data['target'] = raw_data['target'].astype(str)\n",
    "\n",
    "sns.countplot(data=raw_data, x='sex', hue='target')\n",
    "plt.xticks([0, 1], ['Female', 'Male'])\n",
    "plt.legend(title='Heart Disease', labels=['No-Disease', 'Disease']) # Added a title to the legend for clarity\n",
    "plt.xlabel('Sex')\n",
    "plt.ylabel('Count')\n",
    "plt.title('Heart Disease Distribution by Sex')\n",
    "plt.show()"
   ]
  },
  {
   "cell_type": "markdown",
   "id": "fc9256d1-126d-44f5-884a-ae3f47bf7ef8",
   "metadata": {},
   "source": [
    "<h2 style=\"color:#004080; font-family:Arial, sans-serif; padding: 10px;  background-color:#e6f0ff;\">Distribution of Ages in our Dataset.</h2>"
   ]
  },
  {
   "cell_type": "code",
   "execution_count": 163,
   "id": "0a8e53ba-e270-4f05-9a8c-69d5b87b4d36",
   "metadata": {},
   "outputs": [
    {
     "data": {
      "text/plain": [
       "Index(['age', 'sex', 'cp', 'trestbps', 'chol', 'fbs', 'restecg', 'thalach',\n",
       "       'exang', 'oldpeak', 'slope', 'ca', 'thal', 'target'],\n",
       "      dtype='object')"
      ]
     },
     "execution_count": 163,
     "metadata": {},
     "output_type": "execute_result"
    }
   ],
   "source": [
    "raw_data.columns"
   ]
  },
  {
   "cell_type": "code",
   "execution_count": 164,
   "id": "30cf05ee-f318-4283-8536-4275e82358c8",
   "metadata": {},
   "outputs": [
    {
     "data": {
      "image/png": "[encoded data removed]",
      "text/plain": [
       "<Figure size 640x480 with 1 Axes>"
      ]
     },
     "metadata": {},
     "output_type": "display_data"
    }
   ],
   "source": [
    "sns.distplot(raw_data['age'], bins=20)\n",
    "plt.show()"
   ]
  },
  {
   "cell_type": "markdown",
   "id": "3e6eac56-6e1d-4b97-a818-65a5dcdb3306",
   "metadata": {},
   "source": [
    "<h2 style=\"color:#004080; font-family:Arial, sans-serif; padding: 10px;  background-color:#e6f0ff;\">Chest Pain Types</h2>"
   ]
  },
  {
   "cell_type": "code",
   "execution_count": 165,
   "id": "9f748f85-4c68-4a25-b799-38f986ea127b",
   "metadata": {},
   "outputs": [
    {
     "data": {
      "image/png": "[encoded data removed]",
      "text/plain": [
       "<Figure size 640x480 with 1 Axes>"
      ]
     },
     "metadata": {},
     "output_type": "display_data"
    }
   ],
   "source": [
    "\n",
    "sns.countplot(x=raw_data['cp']).set_title('Chest Pain Types')\n",
    "plt.xticks([0,1,2,3], [\"typical angina\",\"atypical angina\",\"non-anginal pain\",\"asymptomatic\"])\n",
    "plt.show()\n"
   ]
  },
  {
   "cell_type": "markdown",
   "id": "aa7edc47-fca2-4e39-8ae9-bb9dd0471a23",
   "metadata": {},
   "source": [
    "<h2 style=\"color:#004080; font-family:Arial, sans-serif; padding: 10px;  background-color:#e6f0ff;\">Heart Disease Distribution by Chest pain</h2>"
   ]
  },
  {
   "cell_type": "code",
   "execution_count": 166,
   "id": "5e4d4bb1-99ec-4eca-96e9-25148dd9c17a",
   "metadata": {},
   "outputs": [
    {
     "data": {
      "image/png": "[encoded data removed]",
      "text/plain": [
       "<Figure size 640x480 with 1 Axes>"
      ]
     },
     "metadata": {},
     "output_type": "display_data"
    }
   ],
   "source": [
    "sns.countplot(data=raw_data, x='cp', hue='target')\n",
    "plt.xticks([0,1,2,3], [\"typical angina\",\"atypical angina\",\"non-anginal pain\",\"asymptomatic\"])\n",
    "plt.legend(title='Heart Disease', labels=['No-Disease', 'Disease']) \n",
    "plt.xlabel('Chest Pain')\n",
    "plt.ylabel('Count')\n",
    "plt.title('Heart Disease Distribution by Chest pain')\n",
    "plt.show()"
   ]
  },
  {
   "cell_type": "markdown",
   "id": "058a9ed5-01c1-4b2d-b37e-088ec1c84a3d",
   "metadata": {},
   "source": [
    "<h1 style=\"color:#004080; font-family:Arial, sans-serif; padding: 10px;  background-color:#e6f0ff;\" >Data Modeling</h1>"
   ]
  },
  {
   "cell_type": "markdown",
   "id": "db9da0d5-318a-4a71-b5c3-4d9fee0565cc",
   "metadata": {},
   "source": [
    "<div style=\"color:#004080; font-family:Arial, sans-serif; padding: 10px;  background-color:#e6f0ff;\">\n",
    "<h2>Creating New training data</h2>\n",
    "<p>\n",
    "I am going to use 10 attributes which are more correlated to the target attribute I am going to use ('age', 'cp', 'trestbps', 'chol', 'thalach','exang', 'oldpeak', 'slope', 'ca', 'thal')\n",
    "</p>\n",
    "</div>"
   ]
  },
  {
   "cell_type": "code",
   "execution_count": 167,
   "id": "10edd736-2afb-41b8-af32-3044517469f2",
   "metadata": {},
   "outputs": [
    {
     "data": {
      "text/html": [
       "<div>\n",
       "<style scoped>\n",
       "    .dataframe tbody tr th:only-of-type {\n",
       "        vertical-align: middle;\n",
       "    }\n",
       "\n",
       "    .dataframe tbody tr th {\n",
       "        vertical-align: top;\n",
       "    }\n",
       "\n",
       "    .dataframe thead th {\n",
       "        text-align: right;\n",
       "    }\n",
       "</style>\n",
       "<table border=\"1\" class=\"dataframe\">\n",
       "  <thead>\n",
       "    <tr style=\"text-align: right;\">\n",
       "      <th></th>\n",
       "      <th>age</th>\n",
       "      <th>cp</th>\n",
       "      <th>trestbps</th>\n",
       "      <th>chol</th>\n",
       "      <th>thalach</th>\n",
       "      <th>exang</th>\n",
       "      <th>oldpeak</th>\n",
       "      <th>slope</th>\n",
       "      <th>ca</th>\n",
       "      <th>thal</th>\n",
       "      <th>target</th>\n",
       "    </tr>\n",
       "  </thead>\n",
       "  <tbody>\n",
       "    <tr>\n",
       "      <th>0</th>\n",
       "      <td>29.0</td>\n",
       "      <td>2.0</td>\n",
       "      <td>130.0</td>\n",
       "      <td>204.0</td>\n",
       "      <td>202.0</td>\n",
       "      <td>0.0</td>\n",
       "      <td>0.0</td>\n",
       "      <td>1.0</td>\n",
       "      <td>0.0</td>\n",
       "      <td>3.0</td>\n",
       "      <td>0</td>\n",
       "    </tr>\n",
       "    <tr>\n",
       "      <th>1</th>\n",
       "      <td>34.0</td>\n",
       "      <td>1.0</td>\n",
       "      <td>118.0</td>\n",
       "      <td>182.0</td>\n",
       "      <td>174.0</td>\n",
       "      <td>0.0</td>\n",
       "      <td>0.0</td>\n",
       "      <td>1.0</td>\n",
       "      <td>0.0</td>\n",
       "      <td>3.0</td>\n",
       "      <td>0</td>\n",
       "    </tr>\n",
       "    <tr>\n",
       "      <th>2</th>\n",
       "      <td>34.0</td>\n",
       "      <td>2.0</td>\n",
       "      <td>118.0</td>\n",
       "      <td>210.0</td>\n",
       "      <td>192.0</td>\n",
       "      <td>0.0</td>\n",
       "      <td>0.7</td>\n",
       "      <td>1.0</td>\n",
       "      <td>0.0</td>\n",
       "      <td>3.0</td>\n",
       "      <td>0</td>\n",
       "    </tr>\n",
       "    <tr>\n",
       "      <th>3</th>\n",
       "      <td>35.0</td>\n",
       "      <td>2.0</td>\n",
       "      <td>122.0</td>\n",
       "      <td>192.0</td>\n",
       "      <td>174.0</td>\n",
       "      <td>0.0</td>\n",
       "      <td>0.0</td>\n",
       "      <td>1.0</td>\n",
       "      <td>0.0</td>\n",
       "      <td>3.0</td>\n",
       "      <td>0</td>\n",
       "    </tr>\n",
       "    <tr>\n",
       "      <th>4</th>\n",
       "      <td>35.0</td>\n",
       "      <td>4.0</td>\n",
       "      <td>138.0</td>\n",
       "      <td>183.0</td>\n",
       "      <td>182.0</td>\n",
       "      <td>0.0</td>\n",
       "      <td>1.4</td>\n",
       "      <td>1.0</td>\n",
       "      <td>0.0</td>\n",
       "      <td>3.0</td>\n",
       "      <td>0</td>\n",
       "    </tr>\n",
       "    <tr>\n",
       "      <th>5</th>\n",
       "      <td>35.0</td>\n",
       "      <td>4.0</td>\n",
       "      <td>120.0</td>\n",
       "      <td>198.0</td>\n",
       "      <td>130.0</td>\n",
       "      <td>1.0</td>\n",
       "      <td>1.6</td>\n",
       "      <td>2.0</td>\n",
       "      <td>0.0</td>\n",
       "      <td>7.0</td>\n",
       "      <td>1</td>\n",
       "    </tr>\n",
       "    <tr>\n",
       "      <th>6</th>\n",
       "      <td>35.0</td>\n",
       "      <td>4.0</td>\n",
       "      <td>126.0</td>\n",
       "      <td>282.0</td>\n",
       "      <td>156.0</td>\n",
       "      <td>1.0</td>\n",
       "      <td>0.0</td>\n",
       "      <td>1.0</td>\n",
       "      <td>0.0</td>\n",
       "      <td>7.0</td>\n",
       "      <td>1</td>\n",
       "    </tr>\n",
       "    <tr>\n",
       "      <th>7</th>\n",
       "      <td>37.0</td>\n",
       "      <td>3.0</td>\n",
       "      <td>130.0</td>\n",
       "      <td>250.0</td>\n",
       "      <td>187.0</td>\n",
       "      <td>0.0</td>\n",
       "      <td>3.5</td>\n",
       "      <td>3.0</td>\n",
       "      <td>0.0</td>\n",
       "      <td>3.0</td>\n",
       "      <td>0</td>\n",
       "    </tr>\n",
       "    <tr>\n",
       "      <th>8</th>\n",
       "      <td>37.0</td>\n",
       "      <td>3.0</td>\n",
       "      <td>120.0</td>\n",
       "      <td>215.0</td>\n",
       "      <td>170.0</td>\n",
       "      <td>0.0</td>\n",
       "      <td>0.0</td>\n",
       "      <td>1.0</td>\n",
       "      <td>0.0</td>\n",
       "      <td>3.0</td>\n",
       "      <td>0</td>\n",
       "    </tr>\n",
       "    <tr>\n",
       "      <th>10</th>\n",
       "      <td>38.0</td>\n",
       "      <td>1.0</td>\n",
       "      <td>120.0</td>\n",
       "      <td>231.0</td>\n",
       "      <td>182.0</td>\n",
       "      <td>1.0</td>\n",
       "      <td>3.8</td>\n",
       "      <td>2.0</td>\n",
       "      <td>0.0</td>\n",
       "      <td>7.0</td>\n",
       "      <td>1</td>\n",
       "    </tr>\n",
       "  </tbody>\n",
       "</table>\n",
       "</div>"
      ],
      "text/plain": [
       "     age   cp  trestbps   chol  thalach  exang  oldpeak  slope   ca  thal  \\\n",
       "0   29.0  2.0     130.0  204.0    202.0    0.0      0.0    1.0  0.0   3.0   \n",
       "1   34.0  1.0     118.0  182.0    174.0    0.0      0.0    1.0  0.0   3.0   \n",
       "2   34.0  2.0     118.0  210.0    192.0    0.0      0.7    1.0  0.0   3.0   \n",
       "3   35.0  2.0     122.0  192.0    174.0    0.0      0.0    1.0  0.0   3.0   \n",
       "4   35.0  4.0     138.0  183.0    182.0    0.0      1.4    1.0  0.0   3.0   \n",
       "5   35.0  4.0     120.0  198.0    130.0    1.0      1.6    2.0  0.0   7.0   \n",
       "6   35.0  4.0     126.0  282.0    156.0    1.0      0.0    1.0  0.0   7.0   \n",
       "7   37.0  3.0     130.0  250.0    187.0    0.0      3.5    3.0  0.0   3.0   \n",
       "8   37.0  3.0     120.0  215.0    170.0    0.0      0.0    1.0  0.0   3.0   \n",
       "10  38.0  1.0     120.0  231.0    182.0    1.0      3.8    2.0  0.0   7.0   \n",
       "\n",
       "   target  \n",
       "0       0  \n",
       "1       0  \n",
       "2       0  \n",
       "3       0  \n",
       "4       0  \n",
       "5       1  \n",
       "6       1  \n",
       "7       0  \n",
       "8       0  \n",
       "10      1  "
      ]
     },
     "execution_count": 167,
     "metadata": {},
     "output_type": "execute_result"
    }
   ],
   "source": [
    "data = raw_data.drop(['fbs', 'restecg','sex'], axis=1)\n",
    "data.head(10)"
   ]
  },
  {
   "cell_type": "markdown",
   "id": "0d256496-f566-42a0-8c90-fcd2f76408a7",
   "metadata": {},
   "source": [
    "<h2 style=\"color:#004080; font-family:Arial, sans-serif; padding: 10px;  background-color:#e6f0ff;\" >Creating y values </h2>"
   ]
  },
  {
   "cell_type": "code",
   "execution_count": 168,
   "id": "bd80f5af-07e9-4323-84a8-bfdf854209f5",
   "metadata": {},
   "outputs": [],
   "source": [
    "data['target'] = data['target'].astype(int)\n",
    "y = data['target']"
   ]
  },
  {
   "cell_type": "markdown",
   "id": "632d286b-1153-4c80-99ed-164b144a7722",
   "metadata": {},
   "source": [
    "<div style=\"color:#004080; font-family:Arial, sans-serif; padding: 10px;  background-color:#e6f0ff;\">\n",
    "<h2>Creating X values</h2>"
   ]
  },
  {
   "cell_type": "code",
   "execution_count": 169,
   "id": "d3a54f76-c69f-471d-bed0-87144c3018f2",
   "metadata": {},
   "outputs": [],
   "source": [
    "X = data.drop(['target'], axis=1)"
   ]
  },
  {
   "cell_type": "markdown",
   "id": "5eaf6f68-1297-4ab6-b4cf-d2dc6f22328e",
   "metadata": {},
   "source": [
    "<h2 style=\"color:#004080; font-family:Arial, sans-serif; padding: 10px;  background-color:#e6f0ff;\" >Checking Multicollinearity problem</h2>"
   ]
  },
  {
   "cell_type": "code",
   "execution_count": 170,
   "id": "7cf78db2-62a2-46f7-bdae-abdddae0b618",
   "metadata": {},
   "outputs": [],
   "source": [
    "VIF_data = pd.DataFrame()\n",
    "VIF_data['factors'] = data.columns\n",
    "VIF_data['VarianceInfluenceFactor'] = [variance_inflation_factor(data.values,i) for i in range(len(data.columns))]"
   ]
  },
  {
   "cell_type": "code",
   "execution_count": 171,
   "id": "06642e78-a6e8-438c-962a-94631237f156",
   "metadata": {
    "scrolled": true
   },
   "outputs": [
    {
     "data": {
      "text/html": [
       "<div>\n",
       "<style scoped>\n",
       "    .dataframe tbody tr th:only-of-type {\n",
       "        vertical-align: middle;\n",
       "    }\n",
       "\n",
       "    .dataframe tbody tr th {\n",
       "        vertical-align: top;\n",
       "    }\n",
       "\n",
       "    .dataframe thead th {\n",
       "        text-align: right;\n",
       "    }\n",
       "</style>\n",
       "<table border=\"1\" class=\"dataframe\">\n",
       "  <thead>\n",
       "    <tr style=\"text-align: right;\">\n",
       "      <th></th>\n",
       "      <th>factors</th>\n",
       "      <th>VarianceInfluenceFactor</th>\n",
       "    </tr>\n",
       "  </thead>\n",
       "  <tbody>\n",
       "    <tr>\n",
       "      <th>2</th>\n",
       "      <td>trestbps</td>\n",
       "      <td>59.547675</td>\n",
       "    </tr>\n",
       "    <tr>\n",
       "      <th>0</th>\n",
       "      <td>age</td>\n",
       "      <td>42.666552</td>\n",
       "    </tr>\n",
       "    <tr>\n",
       "      <th>4</th>\n",
       "      <td>thalach</td>\n",
       "      <td>34.009194</td>\n",
       "    </tr>\n",
       "    <tr>\n",
       "      <th>3</th>\n",
       "      <td>chol</td>\n",
       "      <td>25.004634</td>\n",
       "    </tr>\n",
       "    <tr>\n",
       "      <th>1</th>\n",
       "      <td>cp</td>\n",
       "      <td>13.817691</td>\n",
       "    </tr>\n",
       "    <tr>\n",
       "      <th>7</th>\n",
       "      <td>slope</td>\n",
       "      <td>11.671349</td>\n",
       "    </tr>\n",
       "    <tr>\n",
       "      <th>9</th>\n",
       "      <td>thal</td>\n",
       "      <td>9.994038</td>\n",
       "    </tr>\n",
       "    <tr>\n",
       "      <th>10</th>\n",
       "      <td>target</td>\n",
       "      <td>3.789372</td>\n",
       "    </tr>\n",
       "    <tr>\n",
       "      <th>6</th>\n",
       "      <td>oldpeak</td>\n",
       "      <td>3.176128</td>\n",
       "    </tr>\n",
       "    <tr>\n",
       "      <th>8</th>\n",
       "      <td>ca</td>\n",
       "      <td>2.215682</td>\n",
       "    </tr>\n",
       "    <tr>\n",
       "      <th>5</th>\n",
       "      <td>exang</td>\n",
       "      <td>2.076895</td>\n",
       "    </tr>\n",
       "  </tbody>\n",
       "</table>\n",
       "</div>"
      ],
      "text/plain": [
       "     factors  VarianceInfluenceFactor\n",
       "2   trestbps                59.547675\n",
       "0        age                42.666552\n",
       "4    thalach                34.009194\n",
       "3       chol                25.004634\n",
       "1         cp                13.817691\n",
       "7      slope                11.671349\n",
       "9       thal                 9.994038\n",
       "10    target                 3.789372\n",
       "6    oldpeak                 3.176128\n",
       "8         ca                 2.215682\n",
       "5      exang                 2.076895"
      ]
     },
     "execution_count": 171,
     "metadata": {},
     "output_type": "execute_result"
    }
   ],
   "source": [
    "VIF_data.sort_values(by = 'VarianceInfluenceFactor', ascending = False)"
   ]
  },
  {
   "cell_type": "markdown",
   "id": "ca48c6a2-ad25-45d7-b86d-8e01ebc506d6",
   "metadata": {},
   "source": [
    "<div style=\"color:#004080; font-family:Arial, sans-serif; padding: 10px;  background-color:#e6f0ff;\">\n",
    "<h2>Preprocessing data</h2>\n",
    "<p>The reason we perform this preprocessing is to ensure all the values are within a scale that can be used to make comparisons between factors which may have wildly differing units or scales which would be erroneous to compare. For example, it makes no sense to compare cholesterol values showing serum cholesterol in mg/dl with voltage readings taken for electrocardiograms. This will also fix the multicollinearity problem which I will show below.</p>\n",
    "</div>"
   ]
  },
  {
   "cell_type": "code",
   "execution_count": 172,
   "id": "63007a80-f5e9-4202-b426-1289cb9c5d20",
   "metadata": {},
   "outputs": [
    {
     "data": {
      "image/png": "[encoded data removed]",
      "text/plain": [
       "<Figure size 1500x400 with 1 Axes>"
      ]
     },
     "metadata": {},
     "output_type": "display_data"
    }
   ],
   "source": [
    "data.plot.box(figsize=(15,4));\n",
    "plt.title('Data prior to normalizing and transforming');"
   ]
  },
  {
   "cell_type": "code",
   "execution_count": 173,
   "id": "ddbb7300-cd6a-4ef6-9fb0-2aa4acf8a9dd",
   "metadata": {},
   "outputs": [
    {
     "name": "stdout",
     "output_type": "stream",
     "text": [
      "Train set: (237, 10) (237,)\n",
      "Test set: (60, 10) (60,)\n"
     ]
    }
   ],
   "source": [
    "X = np.asarray(data[['age', 'cp', 'trestbps', 'chol', 'thalach',\n",
    "       'exang', 'oldpeak', 'slope', 'ca', 'thal']])\n",
    "y = np.asarray(data['target'])\n",
    "  \n",
    "# Use Train and Test plit to split the data into two sets.\n",
    "X_train, X_test, y_train, y_test = train_test_split( \n",
    "        X, y, test_size = 0.2,random_state=0)\n",
    "print ('Train set:',X_train.shape,y_train.shape)\n",
    "print ('Test set:', X_test.shape,  y_test.shape)"
   ]
  },
  {
   "cell_type": "markdown",
   "id": "9199d882-49c8-4991-9302-178992f6e601",
   "metadata": {},
   "source": [
    "<h2 style=\"color:#004080; font-family:Arial, sans-serif; padding: 10px;  background-color:#e6f0ff;\" >Preprocessing the train and test set.</h2>"
   ]
  },
  {
   "cell_type": "code",
   "execution_count": 174,
   "id": "ee31e1f1-297f-4224-bcec-93488de03c83",
   "metadata": {},
   "outputs": [],
   "source": [
    "scaler = preprocessing.StandardScaler()\n",
    "X_train = scaler.fit_transform(X_train)\n",
    "X_test = scaler.transform(X_test)"
   ]
  },
  {
   "cell_type": "markdown",
   "id": "b6072ea3-c30f-43dd-8b5f-e835dcf7f763",
   "metadata": {},
   "source": [
    "<h2 style=\"color:#004080; font-family:Arial, sans-serif; padding: 10px;  background-color:#e6f0ff;\" >Now show the preprocessed training data we will be using moving forward.</h2>"
   ]
  },
  {
   "cell_type": "code",
   "execution_count": 175,
   "id": "dbf29a6c-203b-45a5-bc9b-d9dccd4706f7",
   "metadata": {},
   "outputs": [
    {
     "data": {
      "image/png": "[encoded data removed]",
      "text/plain": [
       "<Figure size 1500x400 with 1 Axes>"
      ]
     },
     "metadata": {},
     "output_type": "display_data"
    }
   ],
   "source": [
    "labels = ['age', 'cp', 'trestbps', 'chol', 'thalach','exang', 'oldpeak', 'slope', 'ca', 'thal']\n",
    "\n",
    "datap = pd.DataFrame(X_train,columns = labels)\n",
    "datap.plot.box(figsize=(15,4));\n",
    "plt.title('After Preprocessing');"
   ]
  },
  {
   "cell_type": "markdown",
   "id": "f059b600-38de-4ab2-8fad-630591dd4f98",
   "metadata": {},
   "source": [
    "<p style=\"color:#004080; font-family:Arial, sans-serif; padding: 10px;  background-color:#e6f0ff;\">Now let's look at the variance inflation factor (VIF) to see if we still have multicollinearity, which should be fixed. The VIF for each factor should be closer to one indicating low multicollinearity in the data.</p>"
   ]
  },
  {
   "cell_type": "code",
   "execution_count": 176,
   "id": "186c128a-222f-4202-8372-e269a08fd196",
   "metadata": {},
   "outputs": [
    {
     "data": {
      "text/html": [
       "<div>\n",
       "<style scoped>\n",
       "    .dataframe tbody tr th:only-of-type {\n",
       "        vertical-align: middle;\n",
       "    }\n",
       "\n",
       "    .dataframe tbody tr th {\n",
       "        vertical-align: top;\n",
       "    }\n",
       "\n",
       "    .dataframe thead th {\n",
       "        text-align: right;\n",
       "    }\n",
       "</style>\n",
       "<table border=\"1\" class=\"dataframe\">\n",
       "  <thead>\n",
       "    <tr style=\"text-align: right;\">\n",
       "      <th></th>\n",
       "      <th>factors</th>\n",
       "      <th>VarianceInfluenceFactor</th>\n",
       "    </tr>\n",
       "  </thead>\n",
       "  <tbody>\n",
       "    <tr>\n",
       "      <th>6</th>\n",
       "      <td>oldpeak</td>\n",
       "      <td>1.956690</td>\n",
       "    </tr>\n",
       "    <tr>\n",
       "      <th>7</th>\n",
       "      <td>slope</td>\n",
       "      <td>1.749145</td>\n",
       "    </tr>\n",
       "    <tr>\n",
       "      <th>4</th>\n",
       "      <td>thalach</td>\n",
       "      <td>1.713849</td>\n",
       "    </tr>\n",
       "    <tr>\n",
       "      <th>0</th>\n",
       "      <td>age</td>\n",
       "      <td>1.502071</td>\n",
       "    </tr>\n",
       "    <tr>\n",
       "      <th>5</th>\n",
       "      <td>exang</td>\n",
       "      <td>1.420984</td>\n",
       "    </tr>\n",
       "    <tr>\n",
       "      <th>8</th>\n",
       "      <td>ca</td>\n",
       "      <td>1.354750</td>\n",
       "    </tr>\n",
       "    <tr>\n",
       "      <th>9</th>\n",
       "      <td>thal</td>\n",
       "      <td>1.349970</td>\n",
       "    </tr>\n",
       "    <tr>\n",
       "      <th>1</th>\n",
       "      <td>cp</td>\n",
       "      <td>1.309518</td>\n",
       "    </tr>\n",
       "    <tr>\n",
       "      <th>2</th>\n",
       "      <td>trestbps</td>\n",
       "      <td>1.140719</td>\n",
       "    </tr>\n",
       "    <tr>\n",
       "      <th>3</th>\n",
       "      <td>chol</td>\n",
       "      <td>1.064825</td>\n",
       "    </tr>\n",
       "  </tbody>\n",
       "</table>\n",
       "</div>"
      ],
      "text/plain": [
       "    factors  VarianceInfluenceFactor\n",
       "6   oldpeak                 1.956690\n",
       "7     slope                 1.749145\n",
       "4   thalach                 1.713849\n",
       "0       age                 1.502071\n",
       "5     exang                 1.420984\n",
       "8        ca                 1.354750\n",
       "9      thal                 1.349970\n",
       "1        cp                 1.309518\n",
       "2  trestbps                 1.140719\n",
       "3      chol                 1.064825"
      ]
     },
     "execution_count": 176,
     "metadata": {},
     "output_type": "execute_result"
    }
   ],
   "source": [
    "VIF_data = pd.DataFrame()\n",
    "VIF_data['factors'] = datap.columns\n",
    "#compute the VIF \n",
    "VIF_data['VarianceInfluenceFactor'] = [variance_inflation_factor(datap.values,i) for i in range(len(datap.columns))]\n",
    "VIF_data.sort_values(by = 'VarianceInfluenceFactor', ascending = False)"
   ]
  },
  {
   "cell_type": "markdown",
   "id": "3482dccc-ac27-41c5-a070-7ea03f6487a6",
   "metadata": {},
   "source": [
    "<h2 style=\"color:#004080; font-family:Arial, sans-serif; padding: 10px;  background-color:#e6f0ff;\">Model 1: Logistic Regression</h2>"
   ]
  },
  {
   "cell_type": "markdown",
   "id": "811aa326-a5c2-4c3c-87ba-f0b38c6c7853",
   "metadata": {},
   "source": [
    "<p style=\"color:#004080; font-family:Arial, sans-serif; padding: 10px;  background-color:#e6f0ff;\">Training the model</p>"
   ]
  },
  {
   "cell_type": "code",
   "execution_count": 177,
   "id": "811960c1-2b66-4ec8-92e8-6ab0f847a500",
   "metadata": {},
   "outputs": [],
   "source": [
    "lr = LogisticRegression()\n",
    "\n",
    "#fit the model \n",
    "lr = lr.fit(X_train, y_train)\n",
    "\n"
   ]
  },
  {
   "cell_type": "markdown",
   "id": "715d66b8-8225-4e84-99ae-840cfe081502",
   "metadata": {},
   "source": [
    "<p style=\"color:#004080; font-family:Arial, sans-serif; padding: 10px;  background-color:#e6f0ff;\">Predict how well model fits the known data.</p>"
   ]
  },
  {
   "cell_type": "code",
   "execution_count": 178,
   "id": "21ad9193-a97d-4e9f-a116-a4a7c2005ea8",
   "metadata": {},
   "outputs": [],
   "source": [
    "y_pred = lr.predict(X_test)"
   ]
  },
  {
   "cell_type": "markdown",
   "id": "760a675e-5bdc-47de-838d-0b70a0d5a8e6",
   "metadata": {},
   "source": [
    "<p style=\"color:#004080; font-family:Arial, sans-serif; padding: 10px;  background-color:#e6f0ff;\">Showing model accuracy</p>"
   ]
  },
  {
   "cell_type": "code",
   "execution_count": 179,
   "id": "5865eb4a-cef1-475b-a518-af38e332aac3",
   "metadata": {},
   "outputs": [
    {
     "name": "stdout",
     "output_type": "stream",
     "text": [
      "Training Score:  0.857\n",
      "Testing Score:  0.817\n"
     ]
    }
   ],
   "source": [
    "\n",
    "lr_train_score = round(lr.score(X_train, y_train),3)\n",
    "lr_test_score = round(lr.score(X_test, y_test),3)\n",
    "\n",
    "print('Training Score: ',lr_train_score)\n",
    "print('Testing Score: ', lr_test_score)\n"
   ]
  },
  {
   "cell_type": "markdown",
   "id": "af11e570-9853-493c-8378-602691e05bbc",
   "metadata": {},
   "source": [
    "<h3 style=\"color:#004080; font-family:Arial, sans-serif; padding: 10px;  background-color:#e6f0ff;\">Model Confusion matrix</h3>"
   ]
  },
  {
   "cell_type": "code",
   "execution_count": 180,
   "id": "f1507cec-3020-49cf-a4d1-3a3a5c50e9f1",
   "metadata": {},
   "outputs": [
    {
     "data": {
      "image/png": "[encoded data removed]",
      "text/plain": [
       "<Figure size 800x500 with 2 Axes>"
      ]
     },
     "metadata": {},
     "output_type": "display_data"
    },
    {
     "name": "stdout",
     "output_type": "stream",
     "text": [
      "Classification Report: \n",
      "              precision    recall  f1-score   support\n",
      "\n",
      "           0       0.76      0.90      0.83        29\n",
      "           1       0.88      0.74      0.81        31\n",
      "\n",
      "    accuracy                           0.82        60\n",
      "   macro avg       0.82      0.82      0.82        60\n",
      "weighted avg       0.83      0.82      0.82        60\n",
      "\n"
     ]
    }
   ],
   "source": [
    "\n",
    "lr_cm = confusion_matrix(y_test,y_pred)\n",
    "conf_matrix_lg = pd.DataFrame(data = lr_cm, \n",
    "                           columns = ['Predicted:0', 'Predicted:1'], \n",
    "                           index =['Actual:0', 'Actual:1'])\n",
    "plt.figure(figsize = (8, 5))\n",
    "#use seaborn to make the confusion matrix have heatmap coloring\n",
    "sns.heatmap(conf_matrix_lg, annot = True, fmt = 'd', cmap = \"Purples\")\n",
    "plt.show()\n",
    "\n",
    "conf_matrix_lg_cr = classification_report(y_test, y_pred)\n",
    "print('Classification Report: ')\n",
    "print(conf_matrix_lg_cr)"
   ]
  },
  {
   "cell_type": "markdown",
   "id": "d4da9b04-36e2-4d8b-9250-e0e8b3792889",
   "metadata": {},
   "source": [
    "<h3 style=\"color:#004080; font-family:Arial, sans-serif; padding: 10px;  background-color:#e6f0ff;\" >Overall Model Accuracy</h3>"
   ]
  },
  {
   "cell_type": "code",
   "execution_count": 181,
   "id": "73478804-05b9-4492-859b-f92bcfaeedcd",
   "metadata": {},
   "outputs": [
    {
     "name": "stdout",
     "output_type": "stream",
     "text": [
      "Model accuracy 0.8166666666666667 \n",
      "\n"
     ]
    }
   ],
   "source": [
    "accuracy  = (lr_cm[0,0] + lr_cm[1,1])/ np.sum(lr_cm)\n",
    "print('Model accuracy',accuracy,'\\n')\n"
   ]
  },
  {
   "cell_type": "markdown",
   "id": "662ba788-4ade-4257-a495-084f8990dc1c",
   "metadata": {},
   "source": [
    "<h2 style=\"color:#004080; font-family:Arial, sans-serif; padding: 10px;  background-color:#e6f0ff;\">Model 2: K-nearest Neighbors Classifier</h2>"
   ]
  },
  {
   "cell_type": "code",
   "execution_count": 182,
   "id": "4be0a5bd-7354-48d5-92fe-a2723436f2a9",
   "metadata": {},
   "outputs": [],
   "source": [
    "recalls = []\n",
    "ks = list(range(1,30))\n",
    "for k in ks:\n",
    "    neigh = sklearn.neighbors.KNeighborsClassifier(n_neighbors= k)\n",
    "    neigh.fit(X_train, y_train)\n",
    "    knn_hat = neigh.predict(X_test)\n",
    "    knn_cm = sklearn.metrics.confusion_matrix(y_test, knn_hat)\n",
    "    recalls.append( sklearn.metrics.recall_score(y_test, knn_hat, average='micro') )\n",
    "kdat =pd.DataFrame(recalls, ks)"
   ]
  },
  {
   "cell_type": "code",
   "execution_count": 183,
   "id": "27e64d5d-3883-4d3a-ab8a-ebf6d78705cc",
   "metadata": {},
   "outputs": [
    {
     "name": "stdout",
     "output_type": "stream",
     "text": [
      "Smallest k with highest score, 5 and score for k    0.85\n",
      "Name: 5, dtype: float64\n"
     ]
    },
    {
     "data": {
      "image/png": "[encoded data removed]",
      "text/plain": [
       "<Figure size 640x480 with 1 Axes>"
      ]
     },
     "metadata": {},
     "output_type": "display_data"
    }
   ],
   "source": [
    "kdat.columns = ['k']\n",
    "k = kdat['k'].idxmax()\n",
    "print('Smallest k with highest score,', k,'and score for', kdat.loc[k])\n",
    "\n",
    "#plot the k we found using recall on plot. \n",
    "kdat.plot();\n",
    "plt.plot(k,kdat.loc[k].ravel(),'ro',markersize = 12)\n",
    "plt.title('Varying k');\n",
    "plt.xlabel('k number');\n",
    "plt.ylabel('Recall score');"
   ]
  },
  {
   "cell_type": "code",
   "execution_count": 184,
   "id": "54747c09-bed3-4f26-86a5-c98c987b19ff",
   "metadata": {},
   "outputs": [
    {
     "data": {
      "text/html": [
       "<style>#sk-container-id-12 {color: black;background-color: white;}#sk-container-id-12 pre{padding: 0;}#sk-container-id-12 div.sk-toggleable {background-color: white;}#sk-container-id-12 label.sk-toggleable__label {cursor: pointer;display: block;width: 100%;margin-bottom: 0;padding: 0.3em;box-sizing: border-box;text-align: center;}#sk-container-id-12 label.sk-toggleable__label-arrow:before {content: \"▸\";float: left;margin-right: 0.25em;color: #696969;}#sk-container-id-12 label.sk-toggleable__label-arrow:hover:before {color: black;}#sk-container-id-12 div.sk-estimator:hover label.sk-toggleable__label-arrow:before {color: black;}#sk-container-id-12 div.sk-toggleable__content {max-height: 0;max-width: 0;overflow: hidden;text-align: left;background-color: #f0f8ff;}#sk-container-id-12 div.sk-toggleable__content pre {margin: 0.2em;color: black;border-radius: 0.25em;background-color: #f0f8ff;}#sk-container-id-12 input.sk-toggleable__control:checked~div.sk-toggleable__content {max-height: 200px;max-width: 100%;overflow: auto;}#sk-container-id-12 input.sk-toggleable__control:checked~label.sk-toggleable__label-arrow:before {content: \"▾\";}#sk-container-id-12 div.sk-estimator input.sk-toggleable__control:checked~label.sk-toggleable__label {background-color: #d4ebff;}#sk-container-id-12 div.sk-label input.sk-toggleable__control:checked~label.sk-toggleable__label {background-color: #d4ebff;}#sk-container-id-12 input.sk-hidden--visually {border: 0;clip: rect(1px 1px 1px 1px);clip: rect(1px, 1px, 1px, 1px);height: 1px;margin: -1px;overflow: hidden;padding: 0;position: absolute;width: 1px;}#sk-container-id-12 div.sk-estimator {font-family: monospace;background-color: #f0f8ff;border: 1px dotted black;border-radius: 0.25em;box-sizing: border-box;margin-bottom: 0.5em;}#sk-container-id-12 div.sk-estimator:hover {background-color: #d4ebff;}#sk-container-id-12 div.sk-parallel-item::after {content: \"\";width: 100%;border-bottom: 1px solid gray;flex-grow: 1;}#sk-container-id-12 div.sk-label:hover label.sk-toggleable__label {background-color: #d4ebff;}#sk-container-id-12 div.sk-serial::before {content: \"\";position: absolute;border-left: 1px solid gray;box-sizing: border-box;top: 0;bottom: 0;left: 50%;z-index: 0;}#sk-container-id-12 div.sk-serial {display: flex;flex-direction: column;align-items: center;background-color: white;padding-right: 0.2em;padding-left: 0.2em;position: relative;}#sk-container-id-12 div.sk-item {position: relative;z-index: 1;}#sk-container-id-12 div.sk-parallel {display: flex;align-items: stretch;justify-content: center;background-color: white;position: relative;}#sk-container-id-12 div.sk-item::before, #sk-container-id-12 div.sk-parallel-item::before {content: \"\";position: absolute;border-left: 1px solid gray;box-sizing: border-box;top: 0;bottom: 0;left: 50%;z-index: -1;}#sk-container-id-12 div.sk-parallel-item {display: flex;flex-direction: column;z-index: 1;position: relative;background-color: white;}#sk-container-id-12 div.sk-parallel-item:first-child::after {align-self: flex-end;width: 50%;}#sk-container-id-12 div.sk-parallel-item:last-child::after {align-self: flex-start;width: 50%;}#sk-container-id-12 div.sk-parallel-item:only-child::after {width: 0;}#sk-container-id-12 div.sk-dashed-wrapped {border: 1px dashed gray;margin: 0 0.4em 0.5em 0.4em;box-sizing: border-box;padding-bottom: 0.4em;background-color: white;}#sk-container-id-12 div.sk-label label {font-family: monospace;font-weight: bold;display: inline-block;line-height: 1.2em;}#sk-container-id-12 div.sk-label-container {text-align: center;}#sk-container-id-12 div.sk-container {/* jupyter's `normalize.less` sets `[hidden] { display: none; }` but bootstrap.min.css set `[hidden] { display: none !important; }` so we also need the `!important` here to be able to override the default hidden behavior on the sphinx rendered scikit-learn.org. See: https://github.com/scikit-learn/scikit-learn/issues/21755 */display: inline-block !important;position: relative;}#sk-container-id-12 div.sk-text-repr-fallback {display: none;}</style><div id=\"sk-container-id-12\" class=\"sk-top-container\"><div class=\"sk-text-repr-fallback\"><pre>KNeighborsClassifier(n_jobs=-1)</pre><b>In a Jupyter environment, please rerun this cell to show the HTML representation or trust the notebook. <br />On GitHub, the HTML representation is unable to render, please try loading this page with nbviewer.org.</b></div><div class=\"sk-container\" hidden><div class=\"sk-item\"><div class=\"sk-estimator sk-toggleable\"><input class=\"sk-toggleable__control sk-hidden--visually\" id=\"sk-estimator-id-12\" type=\"checkbox\" checked><label for=\"sk-estimator-id-12\" class=\"sk-toggleable__label sk-toggleable__label-arrow\">KNeighborsClassifier</label><div class=\"sk-toggleable__content\"><pre>KNeighborsClassifier(n_jobs=-1)</pre></div></div></div></div></div>"
      ],
      "text/plain": [
       "KNeighborsClassifier(n_jobs=-1)"
      ]
     },
     "execution_count": 184,
     "metadata": {},
     "output_type": "execute_result"
    }
   ],
   "source": [
    "neigh = sklearn.neighbors.KNeighborsClassifier(n_neighbors = k, n_jobs=-1)\n",
    "neigh.fit(X_train, y_train)"
   ]
  },
  {
   "cell_type": "code",
   "execution_count": 185,
   "id": "8cd76ddc-78e9-45d3-be08-4affd20c90e3",
   "metadata": {},
   "outputs": [],
   "source": [
    "knn_hat = neigh.predict(X_test)"
   ]
  },
  {
   "cell_type": "markdown",
   "id": "fe0ef89f-3443-4e11-bc7e-6141c5b6d41a",
   "metadata": {},
   "source": [
    "<h3 style=\"color:#004080; font-family:Arial, sans-serif; padding: 10px;  background-color:#e6f0ff;\">The knn models report for how well it worked</h3>"
   ]
  },
  {
   "cell_type": "code",
   "execution_count": 186,
   "id": "c703c5e3-be8e-4958-986c-cba9683f5812",
   "metadata": {},
   "outputs": [
    {
     "name": "stdout",
     "output_type": "stream",
     "text": [
      "KNN( 5 ) confusion matrix is = \n",
      " \n",
      " [[25  4]\n",
      " [ 5 26]] \n",
      "\n",
      "Success =  0.8387096774193549 \n",
      "\n",
      "              precision    recall  f1-score   support\n",
      "\n",
      "           0       0.83      0.86      0.85        29\n",
      "           1       0.87      0.84      0.85        31\n",
      "\n",
      "    accuracy                           0.85        60\n",
      "   macro avg       0.85      0.85      0.85        60\n",
      "weighted avg       0.85      0.85      0.85        60\n",
      "\n"
     ]
    },
    {
     "data": {
      "image/png": "[encoded data removed]",
      "text/plain": [
       "<Figure size 800x500 with 2 Axes>"
      ]
     },
     "metadata": {},
     "output_type": "display_data"
    },
    {
     "name": "stdout",
     "output_type": "stream",
     "text": [
      "Training Score:  0.861\n",
      "Testing Score:  0.85\n",
      "Model accuracy: 0.85 \n",
      "\n"
     ]
    }
   ],
   "source": [
    "knn_cm = sklearn.metrics.confusion_matrix(y_test, knn_hat)\n",
    "print('KNN(', k,') confusion matrix is = \\n', '\\n',knn_cm,'\\n')\n",
    "print('Success = ', knn_cm[1,1] / (knn_cm[1,0] + knn_cm[1,1]),'\\n')\n",
    "knn_cr = sklearn.metrics.classification_report(y_test, knn_hat)\n",
    "print(knn_cr)\n",
    "\n",
    "conf_matrix_lg = pd.DataFrame(data = knn_cm, \n",
    "                           columns = ['Predicted:0', 'Predicted:1'], \n",
    "                           index =['Actual:0', 'Actual:1'])\n",
    "plt.figure(figsize = (8, 5))\n",
    "#use seaborn to make the confusion matrix have heatmap coloring\n",
    "sns.heatmap(conf_matrix_lg, annot = True, fmt = 'd', cmap = \"Purples\")\n",
    "plt.show()\n",
    "\n",
    "#scores\n",
    "knn_score_train = round(neigh.score(X_train, y_train),3)\n",
    "knn_score_test = round(neigh.score(X_test, y_test),3)\n",
    "print('Training Score: ',knn_score_train)\n",
    "print('Testing Score: ',knn_score_test)\n",
    "k_accuracy  = (knn_cm[0,0] + knn_cm[1,1])/ np.sum(knn_cm)\n",
    "print('Model accuracy:',k_accuracy,'\\n')"
   ]
  },
  {
   "cell_type": "markdown",
   "id": "71ac01c6-7e2e-4ea4-808d-4bdf0169e69a",
   "metadata": {},
   "source": [
    "<h2 style=\"color:#004080; font-family:Arial, sans-serif; padding: 10px;  background-color:#e6f0ff;\">Model 3: Random Forest Classifier  </h2>"
   ]
  },
  {
   "cell_type": "markdown",
   "id": "2dd1e4bc-456c-4c0b-b824-ffd3e223cb0a",
   "metadata": {},
   "source": [
    "<h3 style=\"color:#004080; font-family:Arial, sans-serif; padding: 10px;  background-color:#e6f0ff;\" >Training algorithm<h3>"
   ]
  },
  {
   "cell_type": "code",
   "execution_count": 187,
   "id": "571bc5e3-ea09-4667-a80b-9edb97ea2dae",
   "metadata": {},
   "outputs": [
    {
     "data": {
      "text/html": [
       "<style>#sk-container-id-13 {color: black;background-color: white;}#sk-container-id-13 pre{padding: 0;}#sk-container-id-13 div.sk-toggleable {background-color: white;}#sk-container-id-13 label.sk-toggleable__label {cursor: pointer;display: block;width: 100%;margin-bottom: 0;padding: 0.3em;box-sizing: border-box;text-align: center;}#sk-container-id-13 label.sk-toggleable__label-arrow:before {content: \"▸\";float: left;margin-right: 0.25em;color: #696969;}#sk-container-id-13 label.sk-toggleable__label-arrow:hover:before {color: black;}#sk-container-id-13 div.sk-estimator:hover label.sk-toggleable__label-arrow:before {color: black;}#sk-container-id-13 div.sk-toggleable__content {max-height: 0;max-width: 0;overflow: hidden;text-align: left;background-color: #f0f8ff;}#sk-container-id-13 div.sk-toggleable__content pre {margin: 0.2em;color: black;border-radius: 0.25em;background-color: #f0f8ff;}#sk-container-id-13 input.sk-toggleable__control:checked~div.sk-toggleable__content {max-height: 200px;max-width: 100%;overflow: auto;}#sk-container-id-13 input.sk-toggleable__control:checked~label.sk-toggleable__label-arrow:before {content: \"▾\";}#sk-container-id-13 div.sk-estimator input.sk-toggleable__control:checked~label.sk-toggleable__label {background-color: #d4ebff;}#sk-container-id-13 div.sk-label input.sk-toggleable__control:checked~label.sk-toggleable__label {background-color: #d4ebff;}#sk-container-id-13 input.sk-hidden--visually {border: 0;clip: rect(1px 1px 1px 1px);clip: rect(1px, 1px, 1px, 1px);height: 1px;margin: -1px;overflow: hidden;padding: 0;position: absolute;width: 1px;}#sk-container-id-13 div.sk-estimator {font-family: monospace;background-color: #f0f8ff;border: 1px dotted black;border-radius: 0.25em;box-sizing: border-box;margin-bottom: 0.5em;}#sk-container-id-13 div.sk-estimator:hover {background-color: #d4ebff;}#sk-container-id-13 div.sk-parallel-item::after {content: \"\";width: 100%;border-bottom: 1px solid gray;flex-grow: 1;}#sk-container-id-13 div.sk-label:hover label.sk-toggleable__label {background-color: #d4ebff;}#sk-container-id-13 div.sk-serial::before {content: \"\";position: absolute;border-left: 1px solid gray;box-sizing: border-box;top: 0;bottom: 0;left: 50%;z-index: 0;}#sk-container-id-13 div.sk-serial {display: flex;flex-direction: column;align-items: center;background-color: white;padding-right: 0.2em;padding-left: 0.2em;position: relative;}#sk-container-id-13 div.sk-item {position: relative;z-index: 1;}#sk-container-id-13 div.sk-parallel {display: flex;align-items: stretch;justify-content: center;background-color: white;position: relative;}#sk-container-id-13 div.sk-item::before, #sk-container-id-13 div.sk-parallel-item::before {content: \"\";position: absolute;border-left: 1px solid gray;box-sizing: border-box;top: 0;bottom: 0;left: 50%;z-index: -1;}#sk-container-id-13 div.sk-parallel-item {display: flex;flex-direction: column;z-index: 1;position: relative;background-color: white;}#sk-container-id-13 div.sk-parallel-item:first-child::after {align-self: flex-end;width: 50%;}#sk-container-id-13 div.sk-parallel-item:last-child::after {align-self: flex-start;width: 50%;}#sk-container-id-13 div.sk-parallel-item:only-child::after {width: 0;}#sk-container-id-13 div.sk-dashed-wrapped {border: 1px dashed gray;margin: 0 0.4em 0.5em 0.4em;box-sizing: border-box;padding-bottom: 0.4em;background-color: white;}#sk-container-id-13 div.sk-label label {font-family: monospace;font-weight: bold;display: inline-block;line-height: 1.2em;}#sk-container-id-13 div.sk-label-container {text-align: center;}#sk-container-id-13 div.sk-container {/* jupyter's `normalize.less` sets `[hidden] { display: none; }` but bootstrap.min.css set `[hidden] { display: none !important; }` so we also need the `!important` here to be able to override the default hidden behavior on the sphinx rendered scikit-learn.org. See: https://github.com/scikit-learn/scikit-learn/issues/21755 */display: inline-block !important;position: relative;}#sk-container-id-13 div.sk-text-repr-fallback {display: none;}</style><div id=\"sk-container-id-13\" class=\"sk-top-container\"><div class=\"sk-text-repr-fallback\"><pre>RandomForestClassifier(max_depth=3, n_estimators=2, n_jobs=-1, random_state=10)</pre><b>In a Jupyter environment, please rerun this cell to show the HTML representation or trust the notebook. <br />On GitHub, the HTML representation is unable to render, please try loading this page with nbviewer.org.</b></div><div class=\"sk-container\" hidden><div class=\"sk-item\"><div class=\"sk-estimator sk-toggleable\"><input class=\"sk-toggleable__control sk-hidden--visually\" id=\"sk-estimator-id-13\" type=\"checkbox\" checked><label for=\"sk-estimator-id-13\" class=\"sk-toggleable__label sk-toggleable__label-arrow\">RandomForestClassifier</label><div class=\"sk-toggleable__content\"><pre>RandomForestClassifier(max_depth=3, n_estimators=2, n_jobs=-1, random_state=10)</pre></div></div></div></div></div>"
      ],
      "text/plain": [
       "RandomForestClassifier(max_depth=3, n_estimators=2, n_jobs=-1, random_state=10)"
      ]
     },
     "execution_count": 187,
     "metadata": {},
     "output_type": "execute_result"
    }
   ],
   "source": [
    "rf = RandomForestClassifier(\n",
    "    n_estimators = 2, random_state=10,max_depth=3, n_jobs=-1\n",
    ")\n",
    "\n",
    "rf.fit(X_train, y_train)"
   ]
  },
  {
   "cell_type": "markdown",
   "id": "b1d22086-a75b-4ca0-bf83-919851b48bb6",
   "metadata": {},
   "source": [
    "<h3 style=\"color:#004080; font-family:Arial, sans-serif; padding: 10px;  background-color:#e6f0ff;\">Predict how well model fits the known data.</h3>\n"
   ]
  },
  {
   "cell_type": "code",
   "execution_count": 188,
   "id": "9b9d9a6a-65e3-4185-bba6-61cbe5bb09b2",
   "metadata": {},
   "outputs": [],
   "source": [
    "y_pred = rf.predict(X_test)"
   ]
  },
  {
   "cell_type": "markdown",
   "id": "25789caf-717f-4335-921c-e26d0ed35564",
   "metadata": {},
   "source": [
    "<h3 style=\"color:#004080; font-family:Arial, sans-serif; padding: 10px;  background-color:#e6f0ff;\">The model report for how well it worked</h3>"
   ]
  },
  {
   "cell_type": "code",
   "execution_count": 189,
   "id": "9a19160b-2030-4957-845e-636e630f1573",
   "metadata": {},
   "outputs": [
    {
     "data": {
      "image/png": "[encoded data removed]",
      "text/plain": [
       "<Figure size 800x500 with 2 Axes>"
      ]
     },
     "metadata": {},
     "output_type": "display_data"
    },
    {
     "name": "stdout",
     "output_type": "stream",
     "text": [
      "Classification Report:\n",
      "              precision    recall  f1-score   support\n",
      "\n",
      "           0       0.76      0.90      0.83        29\n",
      "           1       0.88      0.74      0.81        31\n",
      "\n",
      "    accuracy                           0.82        60\n",
      "   macro avg       0.82      0.82      0.82        60\n",
      "weighted avg       0.83      0.82      0.82        60\n",
      "\n",
      "Random Forest Test Score:  0.817\n",
      "Random Forest Train Score:  0.835\n",
      "Testing Accuracy of Random forest:  0.8166666666666667\n"
     ]
    }
   ],
   "source": [
    "# Confusion matrix\n",
    "cm = confusion_matrix(y_test, y_pred)\n",
    "conf_matrix_rf = pd.DataFrame(data=cm, \n",
    "                           columns=['Predicted:0', 'Predicted:1'], \n",
    "                           index=['Actual:0', 'Actual:1'])\n",
    "plt.figure(figsize=(8, 5))\n",
    "sns.heatmap(conf_matrix_rf, annot=True, fmt='d', cmap=\"Purples\")\n",
    "plt.show()\n",
    "\n",
    "# Classification report\n",
    "cr_rf = classification_report(y_test, y_pred)\n",
    "print('Classification Report:')\n",
    "print(cr_rf)\n",
    "\n",
    "# Scores\n",
    "rf_test_score = round(rf.score(X_test, y_test), 3)\n",
    "rf_train_score = round(rf.score(X_train, y_train), 3)\n",
    "\n",
    "print(\"Random Forest Test Score: \", rf_test_score)\n",
    "print(\"Random Forest Train Score: \", rf_train_score)\n",
    "\n",
    "# Accuracy\n",
    "rf_accuracy = rf.score(X_test, y_test)\n",
    "print(\"Testing Accuracy of Random forest: \", rf_accuracy)"
   ]
  },
  {
   "cell_type": "markdown",
   "id": "aea513c1-5928-4f88-b7b7-2104111e4db1",
   "metadata": {},
   "source": [
    "<h3 style=\"color:#004080; font-family:Arial, sans-serif; padding: 10px;  background-color:#e6f0ff;\" >Here I pull out the features the model considers most relevant.</h3>"
   ]
  },
  {
   "cell_type": "code",
   "execution_count": 190,
   "id": "b86f439f-80dd-4260-ab43-130d967105e0",
   "metadata": {},
   "outputs": [
    {
     "data": {
      "image/png": "[encoded data removed]",
      "text/plain": [
       "<Figure size 640x480 with 1 Axes>"
      ]
     },
     "metadata": {},
     "output_type": "display_data"
    }
   ],
   "source": [
    "importances = rf.feature_importances_\n",
    "importances = pd.DataFrame(importances,['age', 'cp', 'trestbps', 'chol', 'thalach',\n",
    "       'exang', 'oldpeak', 'slope', 'ca', 'thal'])\n",
    "importances=importances.rename(columns={0: \"Features_Importance\"})\n",
    "importances  = importances.Features_Importance.sort_values()\n",
    "importances.plot.bar();"
   ]
  },
  {
   "cell_type": "markdown",
   "id": "315d2698-c140-4f9f-97ad-f34962a4832e",
   "metadata": {},
   "source": [
    "<h2 style=\"color:#004080; font-family:Arial, sans-serif; padding: 10px;  background-color:#e6f0ff;\">Model 4: Support Vector Classifier  </h2>"
   ]
  },
  {
   "cell_type": "markdown",
   "id": "6692a79a-a67e-48f3-be15-dd64420af257",
   "metadata": {},
   "source": [
    "<h3 style=\"color:#004080; font-family:Arial, sans-serif; padding: 10px;  background-color:#e6f0ff;\">Training model</h3>"
   ]
  },
  {
   "cell_type": "code",
   "execution_count": 191,
   "id": "9e25d01d-ee17-4fb0-9a7e-f2ebe2884e1d",
   "metadata": {},
   "outputs": [
    {
     "data": {
      "text/html": [
       "<style>#sk-container-id-14 {color: black;background-color: white;}#sk-container-id-14 pre{padding: 0;}#sk-container-id-14 div.sk-toggleable {background-color: white;}#sk-container-id-14 label.sk-toggleable__label {cursor: pointer;display: block;width: 100%;margin-bottom: 0;padding: 0.3em;box-sizing: border-box;text-align: center;}#sk-container-id-14 label.sk-toggleable__label-arrow:before {content: \"▸\";float: left;margin-right: 0.25em;color: #696969;}#sk-container-id-14 label.sk-toggleable__label-arrow:hover:before {color: black;}#sk-container-id-14 div.sk-estimator:hover label.sk-toggleable__label-arrow:before {color: black;}#sk-container-id-14 div.sk-toggleable__content {max-height: 0;max-width: 0;overflow: hidden;text-align: left;background-color: #f0f8ff;}#sk-container-id-14 div.sk-toggleable__content pre {margin: 0.2em;color: black;border-radius: 0.25em;background-color: #f0f8ff;}#sk-container-id-14 input.sk-toggleable__control:checked~div.sk-toggleable__content {max-height: 200px;max-width: 100%;overflow: auto;}#sk-container-id-14 input.sk-toggleable__control:checked~label.sk-toggleable__label-arrow:before {content: \"▾\";}#sk-container-id-14 div.sk-estimator input.sk-toggleable__control:checked~label.sk-toggleable__label {background-color: #d4ebff;}#sk-container-id-14 div.sk-label input.sk-toggleable__control:checked~label.sk-toggleable__label {background-color: #d4ebff;}#sk-container-id-14 input.sk-hidden--visually {border: 0;clip: rect(1px 1px 1px 1px);clip: rect(1px, 1px, 1px, 1px);height: 1px;margin: -1px;overflow: hidden;padding: 0;position: absolute;width: 1px;}#sk-container-id-14 div.sk-estimator {font-family: monospace;background-color: #f0f8ff;border: 1px dotted black;border-radius: 0.25em;box-sizing: border-box;margin-bottom: 0.5em;}#sk-container-id-14 div.sk-estimator:hover {background-color: #d4ebff;}#sk-container-id-14 div.sk-parallel-item::after {content: \"\";width: 100%;border-bottom: 1px solid gray;flex-grow: 1;}#sk-container-id-14 div.sk-label:hover label.sk-toggleable__label {background-color: #d4ebff;}#sk-container-id-14 div.sk-serial::before {content: \"\";position: absolute;border-left: 1px solid gray;box-sizing: border-box;top: 0;bottom: 0;left: 50%;z-index: 0;}#sk-container-id-14 div.sk-serial {display: flex;flex-direction: column;align-items: center;background-color: white;padding-right: 0.2em;padding-left: 0.2em;position: relative;}#sk-container-id-14 div.sk-item {position: relative;z-index: 1;}#sk-container-id-14 div.sk-parallel {display: flex;align-items: stretch;justify-content: center;background-color: white;position: relative;}#sk-container-id-14 div.sk-item::before, #sk-container-id-14 div.sk-parallel-item::before {content: \"\";position: absolute;border-left: 1px solid gray;box-sizing: border-box;top: 0;bottom: 0;left: 50%;z-index: -1;}#sk-container-id-14 div.sk-parallel-item {display: flex;flex-direction: column;z-index: 1;position: relative;background-color: white;}#sk-container-id-14 div.sk-parallel-item:first-child::after {align-self: flex-end;width: 50%;}#sk-container-id-14 div.sk-parallel-item:last-child::after {align-self: flex-start;width: 50%;}#sk-container-id-14 div.sk-parallel-item:only-child::after {width: 0;}#sk-container-id-14 div.sk-dashed-wrapped {border: 1px dashed gray;margin: 0 0.4em 0.5em 0.4em;box-sizing: border-box;padding-bottom: 0.4em;background-color: white;}#sk-container-id-14 div.sk-label label {font-family: monospace;font-weight: bold;display: inline-block;line-height: 1.2em;}#sk-container-id-14 div.sk-label-container {text-align: center;}#sk-container-id-14 div.sk-container {/* jupyter's `normalize.less` sets `[hidden] { display: none; }` but bootstrap.min.css set `[hidden] { display: none !important; }` so we also need the `!important` here to be able to override the default hidden behavior on the sphinx rendered scikit-learn.org. See: https://github.com/scikit-learn/scikit-learn/issues/21755 */display: inline-block !important;position: relative;}#sk-container-id-14 div.sk-text-repr-fallback {display: none;}</style><div id=\"sk-container-id-14\" class=\"sk-top-container\"><div class=\"sk-text-repr-fallback\"><pre>SVC(C=1, gamma=&#x27;auto&#x27;, kernel=&#x27;poly&#x27;)</pre><b>In a Jupyter environment, please rerun this cell to show the HTML representation or trust the notebook. <br />On GitHub, the HTML representation is unable to render, please try loading this page with nbviewer.org.</b></div><div class=\"sk-container\" hidden><div class=\"sk-item\"><div class=\"sk-estimator sk-toggleable\"><input class=\"sk-toggleable__control sk-hidden--visually\" id=\"sk-estimator-id-14\" type=\"checkbox\" checked><label for=\"sk-estimator-id-14\" class=\"sk-toggleable__label sk-toggleable__label-arrow\">SVC</label><div class=\"sk-toggleable__content\"><pre>SVC(C=1, gamma=&#x27;auto&#x27;, kernel=&#x27;poly&#x27;)</pre></div></div></div></div></div>"
      ],
      "text/plain": [
       "SVC(C=1, gamma='auto', kernel='poly')"
      ]
     },
     "execution_count": 191,
     "metadata": {},
     "output_type": "execute_result"
    }
   ],
   "source": [
    "svm_model = svm.SVC(C=1,kernel='poly',gamma='auto')\n",
    "svm_model.fit(X_train,y_train)"
   ]
  },
  {
   "cell_type": "markdown",
   "id": "fa3ccd94-2709-4e07-b73b-135a701204cc",
   "metadata": {},
   "source": [
    "<h3 style=\"color:#004080; font-family:Arial, sans-serif; padding: 10px;  background-color:#e6f0ff;\">Model Predictions</h3>"
   ]
  },
  {
   "cell_type": "code",
   "execution_count": 192,
   "id": "05142ba0-80f5-4335-af9d-251a83260599",
   "metadata": {},
   "outputs": [],
   "source": [
    "svm_prediction = svm_model.predict(X_test)\n"
   ]
  },
  {
   "cell_type": "markdown",
   "id": "1ce5916d-665a-4e08-9d75-49fb552bf2a4",
   "metadata": {},
   "source": [
    "<h3 style=\"color:#004080; font-family:Arial, sans-serif; padding: 10px;  background-color:#e6f0ff;\">Model accuracy</h3>"
   ]
  },
  {
   "cell_type": "code",
   "execution_count": 193,
   "id": "b1bc78df-6a1d-4f0b-8fbb-0ebc9be2ea31",
   "metadata": {},
   "outputs": [
    {
     "name": "stdout",
     "output_type": "stream",
     "text": [
      "Testing Accuracy of SVC model:  0.8333333333333334\n"
     ]
    }
   ],
   "source": [
    "svm_accuracy = accuracy_score(y_test,svm_prediction)\n",
    "print(\"Testing Accuracy of SVC model: \",svm_accuracy)"
   ]
  },
  {
   "cell_type": "markdown",
   "id": "649cb4c2-6444-4040-b443-e44dfd94b710",
   "metadata": {},
   "source": [
    "<h3 style=\"color:#004080; font-family:Arial, sans-serif; padding: 10px;  background-color:#e6f0ff;\">Confusion matrix</h3>"
   ]
  },
  {
   "cell_type": "code",
   "execution_count": 194,
   "id": "8c547dcf-c919-45cf-bfef-f80bb3470373",
   "metadata": {},
   "outputs": [
    {
     "data": {
      "image/png": "[encoded data removed]",
      "text/plain": [
       "<Figure size 800x500 with 2 Axes>"
      ]
     },
     "metadata": {},
     "output_type": "display_data"
    },
    {
     "name": "stdout",
     "output_type": "stream",
     "text": [
      "Classification Report: =\n",
      "              precision    recall  f1-score   support\n",
      "\n",
      "           0       0.77      0.93      0.84        29\n",
      "           1       0.92      0.74      0.82        31\n",
      "\n",
      "    accuracy                           0.83        60\n",
      "   macro avg       0.85      0.84      0.83        60\n",
      "weighted avg       0.85      0.83      0.83        60\n",
      "\n",
      "Random Forest Test Score:  0.833\n",
      "Random Forest Train Score:  0.878\n"
     ]
    }
   ],
   "source": [
    "# Confusion matrix \n",
    "cm_svm = confusion_matrix(y_test,svm_prediction)\n",
    "conf_matrix_svm = pd.DataFrame(data = cm_svm, \n",
    "                           columns = ['Predicted:0', 'Predicted:1'], \n",
    "                           index =['Actual:0', 'Actual:1'])\n",
    "plt.figure(figsize = (8, 5))\n",
    "sns.heatmap(conf_matrix_svm, annot = True, fmt = 'd', cmap = \"Purples\")\n",
    "plt.show()\n",
    "\n",
    "cr_svm= classification_report(y_test, svm_prediction)\n",
    "print('Classification Report: =')\n",
    "print(cr_svm)\n",
    "\n",
    "#scores\n",
    "svm_test_score = round(svm_model.score(X_test,y_test),3)\n",
    "svm_train_score = round(svm_model.score(X_train,y_train),3)\n",
    "\n",
    "\n",
    "print(\"Random Forest Test Score: \",svm_test_score)\n",
    "print(\"Random Forest Train Score: \",svm_train_score)"
   ]
  },
  {
   "cell_type": "markdown",
   "id": "f981148d-09d8-41f2-9faa-cbeee5e6b3a7",
   "metadata": {},
   "source": [
    "<div style=\"color:#004080; font-family:Arial, sans-serif; padding: 10px;  background-color:#e6f0ff;\">\n",
    "<h1>Summarizing All Model Performance.</h1>\n",
    "<p>Summarize results by showing the four confusion matrices for the models which used all the attributes. Place them in subplots and place the classification reports for each model below.</p>\n",
    "</div>"
   ]
  },
  {
   "cell_type": "code",
   "execution_count": 195,
   "id": "c1488d8e-370b-4f0e-b82c-9b5421d794eb",
   "metadata": {},
   "outputs": [
    {
     "data": {
      "image/png": "[encoded data removed]",
      "text/plain": [
       "<Figure size 2400x1500 with 8 Axes>"
      ]
     },
     "metadata": {},
     "output_type": "display_data"
    }
   ],
   "source": [
    "plt.figure(figsize=(24,15));\n",
    "plt.suptitle(\"Confusion Matrices\",fontsize=24);\n",
    "plt.subplots_adjust(wspace = 0.5, hspace= 0.4,bottom=0.01)\n",
    "\n",
    "plt.subplot(2,2,1);\n",
    "plt.title(\"Logistic Regression\");\n",
    "sns.heatmap(conf_matrix_lg, annot = True, fmt = 'd', cmap = \"Purples\");\n",
    "plt.xlabel(conf_matrix_lg_cr);\n",
    "\n",
    "plt.subplot(2,2,2);\n",
    "plt.title(\"Support Vector Classifier\");\n",
    "sns.heatmap(conf_matrix_svm, annot = True, fmt = 'd', cmap = \"Purples\");\n",
    "plt.xlabel(cr_svm);\n",
    "\n",
    "plt.subplot(2,2,3);\n",
    "plt.title(\"Random Forest Classifier\");\n",
    "sns.heatmap(conf_matrix_rf, annot = True, fmt = 'd', cmap = \"Purples\");\n",
    "plt.xlabel(cr_rf);\n",
    "\n",
    "plt.subplot(2,2,4);\n",
    "plt.title(\"K-nearest Neighbors Classifer\");\n",
    "sns.heatmap(knn_cm, annot = True, fmt = 'd', cmap = \"Purples\");\n",
    "plt.xlabel(knn_cr);"
   ]
  },
  {
   "cell_type": "markdown",
   "id": "7d30e777-0bb5-4cb2-8299-685f10aab06e",
   "metadata": {},
   "source": [
    "<h3 style=\"color:#004080; font-family:Arial, sans-serif; padding: 10px;  background-color:#e6f0ff;\">Create a dataframe and place all the training and test scores together for easy viewing.</h3>"
   ]
  },
  {
   "cell_type": "code",
   "execution_count": 196,
   "id": "c6c17761-8331-4ea2-b251-44760edde2af",
   "metadata": {},
   "outputs": [
    {
     "data": {
      "text/html": [
       "<div>\n",
       "<style scoped>\n",
       "    .dataframe tbody tr th:only-of-type {\n",
       "        vertical-align: middle;\n",
       "    }\n",
       "\n",
       "    .dataframe tbody tr th {\n",
       "        vertical-align: top;\n",
       "    }\n",
       "\n",
       "    .dataframe thead th {\n",
       "        text-align: right;\n",
       "    }\n",
       "</style>\n",
       "<table border=\"1\" class=\"dataframe\">\n",
       "  <thead>\n",
       "    <tr style=\"text-align: right;\">\n",
       "      <th></th>\n",
       "      <th>Training Scores</th>\n",
       "      <th>Testing Scores</th>\n",
       "    </tr>\n",
       "    <tr>\n",
       "      <th>Model</th>\n",
       "      <th></th>\n",
       "      <th></th>\n",
       "    </tr>\n",
       "  </thead>\n",
       "  <tbody>\n",
       "    <tr>\n",
       "      <th>Logistic Regression</th>\n",
       "      <td>0.857</td>\n",
       "      <td>0.817</td>\n",
       "    </tr>\n",
       "    <tr>\n",
       "      <th>Support Vector Classifier</th>\n",
       "      <td>0.878</td>\n",
       "      <td>0.833</td>\n",
       "    </tr>\n",
       "    <tr>\n",
       "      <th>K-Nearest Neighbors</th>\n",
       "      <td>0.861</td>\n",
       "      <td>0.850</td>\n",
       "    </tr>\n",
       "    <tr>\n",
       "      <th>Random Forest Classifier</th>\n",
       "      <td>0.835</td>\n",
       "      <td>0.817</td>\n",
       "    </tr>\n",
       "  </tbody>\n",
       "</table>\n",
       "</div>"
      ],
      "text/plain": [
       "                           Training Scores  Testing Scores\n",
       "Model                                                     \n",
       "Logistic Regression                  0.857           0.817\n",
       "Support Vector Classifier            0.878           0.833\n",
       "K-Nearest Neighbors                  0.861           0.850\n",
       "Random Forest Classifier             0.835           0.817"
      ]
     },
     "execution_count": 196,
     "metadata": {},
     "output_type": "execute_result"
    }
   ],
   "source": [
    "#place all testing and traing scores into array\n",
    "array = [[lr_train_score, lr_test_score],[svm_train_score,svm_test_score],[knn_score_train, knn_score_test],[rf_train_score,rf_test_score ]]\n",
    "\n",
    "#create some labels for DataFrame\n",
    "label_index = ['Logistic Regression','Support Vector Classifier','K-Nearest Neighbors','Random Forest Classifier']\n",
    "\n",
    "#create Dataframe\n",
    "results = pd.DataFrame(array, columns = ['Training Scores','Testing Scores'])\n",
    "\n",
    "#place labels for index \n",
    "results = results.set_index([pd.Index(label_index)])\n",
    "\n",
    "#add model name for the index column, which is just the name\n",
    "results.index.name = 'Model'\n",
    "\n",
    "#print results\n",
    "results"
   ]
  },
  {
   "cell_type": "markdown",
   "id": "8695bf0d-0b94-44d3-8d74-97be9af69fc0",
   "metadata": {},
   "source": [
    "<h1 style=\"color:#004080; font-family:Arial, sans-serif; padding: 10px;  background-color:#e6f0ff;\">BUILDING A PREDICTIVE SYSTEM using K-Nearest Neighbors which is the best</h1>"
   ]
  },
  {
   "cell_type": "markdown",
   "id": "63a121ba-cec2-43f9-8690-0dff3cdadcfa",
   "metadata": {},
   "source": [
    "<h3 style=\"color:#004080; font-family:Arial, sans-serif; padding: 10px;  background-color:#e6f0ff;\">Taking input data to predict</h3>"
   ]
  },
  {
   "cell_type": "code",
   "execution_count": 261,
   "id": "0bf788b6-a0b0-482f-9dc7-e9de342fa0c6",
   "metadata": {},
   "outputs": [
    {
     "name": "stdin",
     "output_type": "stream",
     "text": [
      "Age:  77\n",
      "cp:  4\n",
      "trestbps:  125\n",
      "chol:  304\n",
      "thalach:  162\n",
      "exang:  1\n",
      "oldpeak:  0\n",
      "slope:  1\n",
      "ca:  3\n",
      "thal:  3\n"
     ]
    },
    {
     "data": {
      "text/plain": [
       "[77.0, 4.0, 125.0, 304.0, 162.0, 1.0, 0.0, 1.0, 3.0, 3.0]"
      ]
     },
     "execution_count": 261,
     "metadata": {},
     "output_type": "execute_result"
    }
   ],
   "source": [
    "data_names = ['Age: ', 'cp: ', 'trestbps: ', 'chol: ', 'thalach: ',\n",
    "       'exang: ', 'oldpeak: ', 'slope: ', 'ca: ', 'thal: ']\n",
    "input_data = []\n",
    "for name in data_names:\n",
    "    data = float(input(name))\n",
    "    input_data.append(data)\n",
    "\n",
    "input_data"
   ]
  },
  {
   "cell_type": "markdown",
   "id": "c9f7074c-e507-46fb-9081-dd38239c7968",
   "metadata": {},
   "source": [
    "<h3 style=\"color:#004080; font-family:Arial, sans-serif; padding: 10px;  background-color:#e6f0ff;\">Convert to numpy array and reshape for prediction</h3>"
   ]
  },
  {
   "cell_type": "code",
   "execution_count": 262,
   "id": "11fc24ed-ea88-47f9-a03a-506755b86de5",
   "metadata": {},
   "outputs": [],
   "source": [
    "arr = np.array(input_data).reshape(1, -1)"
   ]
  },
  {
   "cell_type": "markdown",
   "id": "d04439ed-0e2c-4f60-a7c6-7ed3892efcb1",
   "metadata": {},
   "source": [
    "<h3 style=\"color:#004080; font-family:Arial, sans-serif; padding: 10px;  background-color:#e6f0ff;\">Scale input data using the same scaler used during training</h3>"
   ]
  },
  {
   "cell_type": "code",
   "execution_count": 263,
   "id": "48ed9215-b7c7-48d7-bae3-457a47b4d0e1",
   "metadata": {},
   "outputs": [],
   "source": [
    "arr_scaled = scaler.transform(arr)"
   ]
  },
  {
   "cell_type": "markdown",
   "id": "9c6d4943-db1a-48c9-b9fd-7beb18aabd46",
   "metadata": {},
   "source": [
    "<h3 style=\"color:#004080; font-family:Arial, sans-serif; padding: 10px;  background-color:#e6f0ff;\">Making predication</h3>"
   ]
  },
  {
   "cell_type": "code",
   "execution_count": 264,
   "id": "eb8dd014-dd60-4804-8399-0d0d4dad4af8",
   "metadata": {},
   "outputs": [],
   "source": [
    "prediction = neigh.predict(arr_scaled)\n"
   ]
  },
  {
   "cell_type": "markdown",
   "id": "32a5a787-037a-4450-bd2c-ff6c4836dc86",
   "metadata": {},
   "source": [
    "<h3 style=\"color:#004080; font-family:Arial, sans-serif; padding: 10px;  background-color:#e6f0ff;\">Predication Result</h3>"
   ]
  },
  {
   "cell_type": "code",
   "execution_count": 265,
   "id": "6a2887fe-a510-4774-9dd9-841dab77e10e",
   "metadata": {},
   "outputs": [
    {
     "name": "stdout",
     "output_type": "stream",
     "text": [
      "Consult your Doctor.\n",
      "[1]\n"
     ]
    }
   ],
   "source": [
    "if prediction == 0:\n",
    "    print('You are Healthy No CardioRisk.')\n",
    "else:\n",
    "    print('Consult your Doctor.')\n",
    "print(prediction)"
   ]
  },
  {
   "cell_type": "markdown",
   "id": "0fb38fb9-6503-45ae-bbfc-85d410b612b8",
   "metadata": {},
   "source": [
    "<h1 style=\"color:#004080; font-family:Arial, sans-serif; background-color:#e6f0ff; padding:10px; font-weight:bold; border:groove 5px #004080;\">FINAL REPORT</h1>"
   ]
  },
  {
   "cell_type": "markdown",
   "id": "7459286e-1f5c-417e-8139-fb52752b8b5b",
   "metadata": {},
   "source": [
    "<h2 style=\"color:#004080; font-family:Arial, sans-serif;\">Methodology</h2>\r\n",
    "<ol style=\"font-family:Arial, sans-serif; color:#333;\">\r\n",
    "  <li><strong>Data Preprocessing:</strong> Missing values were handled and StandardScaler was used for feature scaling.</li>\r\n",
    "  <li><strong>Model Training:</strong>\r\n",
    "    <ul>\r\n",
    "      <li>Logistic Regression</li>\r\n",
    "      <li>Support Vector Machine (SVM)</li>\r\n",
    "      <li>Random Forest Classifier</li>\r\n",
    "      <li>K-Nearest Neighbors (KNN)</li>\r\n",
    "    </ul>\r\n",
    "  </li>\r\n",
    "  <li><strong>Model Evaluation:</strong> Accuracy score, confusion matrix, classification report, and VIF analysis were used.</li>\r\n",
    "</ol>\n",
    "\n",
    "<h2 style=\"color:#004080; font-family:Arial, sans-serif;\">Model Evaluation Report</h2>\n",
    "<p style=\"font-family:Arial, sans-serif; color:#333;\">\n",
    "This section provides an overview of how the implemented machine learning algorithms performed during training and testing phases. Four different models were evaluated using accuracy scores to determine their effectiveness in predicting heart disease.\n",
    "</p>\n",
    "\n",
    "<table style=\"width:80%; border-collapse:collapse; font-family:Arial, sans-serif; color:#333; margin: 20px 0;\">\n",
    "  <thead>\n",
    "    <tr>\n",
    "      <th style=\"padding:10px; border:1px solid #ccc; background-color:#e6f0ff;\">Model</th>\n",
    "      <th style=\"padding:10px; border:1px solid #ccc; background-color:#e6f0ff;\">Training Accuracy</th>\n",
    "      <th style=\"padding:10px; border:1px solid #ccc; background-color:#e6f0ff;\">Test Accuracy</th>\n",
    "    </tr>\n",
    "  </thead>\n",
    "  <tbody>\n",
    "    <tr>\n",
    "      <td style=\"padding:10px; border:1px solid #ccc;\">Logistic Regression</td>\n",
    "      <td style=\"padding:10px; border:1px solid #ccc;\">0.857</td>\n",
    "      <td style=\"padding:10px; border:1px solid #ccc;\">0.817</td>\n",
    "    </tr>\n",
    "    <tr>\n",
    "      <td style=\"padding:10px; border:1px solid #ccc;\">Support Vector Classifier</td>\n",
    "      <td style=\"padding:10px; border:1px solid #ccc;\">0.878</td>\n",
    "      <td style=\"padding:10px; border:1px solid #ccc;\">0.833</td>\n",
    "    </tr>\n",
    "    <tr>\n",
    "      <td style=\"padding:10px; border:1px solid #ccc;\">K-Nearest Neighbors</td>\n",
    "      <td style=\"padding:10px; border:1px solid #ccc;\">0.861</td>\n",
    "      <td style=\"padding:10px; border:1px solid #ccc;\">0.850</td>\n",
    "    </tr>\n",
    "    <tr>\n",
    "      <td style=\"padding:10px; border:1px solid #ccc;\">Random Forest Classifier</td>\n",
    "      <td style=\"padding:10px; border:1px solid #ccc;\">0.835</td>\n",
    "      <td style=\"padding:10px; border:1px solid #ccc;\">0.817</td>\n",
    "    </tr>\n",
    "  </tbody>\n",
    "</table>\n",
    "\n",
    "<p style=\"font-family:Arial, sans-serif; color:#333;\">\n",
    "Among all tested models, the <strong>K-Nearest Neighbors</strong> classifier achieved the highest test accuracy of <strong>0.850</strong>, demonstrating the best generalization performance. While <strong>Support Vector Classifier</strong> also showed strong performance with a test accuracy of <strong>0.833</strong>, KNN slightly outperformed it.\n",
    "</p>\n",
    "\n",
    "<p style=\"font-family:Arial, sans-serif; color:#333;\">\n",
    "The <strong>Logistic Regression</strong> and <strong>Random Forest</strong> models both achieved a test accuracy of <strong>0.817</strong>. Although these models performed fairly well, they were not as effective as KNN or SVC in this particular use case.\n",
    "</p>\n",
    "\n",
    "<p style=\"font-family:Arial, sans-serif; color:#333;\">\n",
    "Based on these results, the KNN model was chosen as the preferred algorithm for this system due to its overall balance and superior test accuracy.\n",
    "</p>\n",
    "\n",
    "<h2 style=\"color:#004080; font-family:Arial, sans-serif;\">Conclusion</h2>\n",
    "<p style=\"font-family:Arial, sans-serif; color:#333;\">\n",
    "The final evaluation confirms that the <strong>K-Nearest Neighbors</strong> algorithm is the most suitable model for the CardioRisk Classifier. Future work may include integrating this model into a functional interface, tuning hyperparameters for improved accuracy, and testing on larger or localized datasets for enhanced relevance.\n",
    "</p>"
   ]
  },
  {
   "cell_type": "markdown",
   "id": "336171c8-ed4e-4c80-8fe4-2fedcd4ac703",
   "metadata": {},
   "source": [
    "<h1 style=\"color:#004080; font-family:Arial, sans-serif; padding: 10px;  background-color:#e6f0ff;\">About Me</h1>\n",
    "<div style=\"font-family: Arial, sans-serif; line-height: 1.6; font-size: 16px;\">\n",
    "\n",
    "  <p>\n",
    "    My name is <strong>Godknows Nyandoro</strong>, a Computer Science student at the University of Zimbabwe. \n",
    "    Below are my contact details and professional profiles:\n",
    "  </p>\n",
    "  <ul>\n",
    "    <li>WhatsApp: <a href=\"https://wa.me/263779319824\" target=\"_blank\">+263 779 319 824</a></li>\n",
    "    <li>Email: <a href=\"mailto:nyandorog@gmail.com\">nyandorog@gmail.com</a></li>\n",
    "    <li>GitHub: <a href=\"https://github.com/Godknows-Jv\" target=\"_blank\">https://github.com/Godknows-Jv</a></li>\n",
    "    <li>LinkedIn: <a href=\"https://www.linkedin.com/in/godknows-nyandoro-65a7a5320/\" target=\"_blank\">https://www.linkedin.com/in/godknows-nyandoro-65a7a5320/</a></li>\n",
    "  </ul>\n",
    "  <p>\n",
    "    Feel free to reach out or connect with me!\n",
    "  </p>\n",
    "</div>\n"
   ]
  },
  {
   "cell_type": "code",
   "execution_count": null,
   "id": "57580d12-80fb-4434-9fde-e02e45c00a9b",
   "metadata": {},
   "outputs": [],
   "source": []
  }
 ],
 "metadata": {
  "kernelspec": {
   "display_name": "Python 3 (ipykernel)",
   "language": "python",
   "name": "python3"
  },
  "language_info": {
   "codemirror_mode": {
    "name": "ipython",
    "version": 3
   },
   "file_extension": ".py",
   "mimetype": "text/x-python",
   "name": "python",
   "nbconvert_exporter": "python",
   "pygments_lexer": "ipython3",
   "version": "3.11.7"
  }
 },
 "nbformat": 4,
 "nbformat_minor": 5
}
